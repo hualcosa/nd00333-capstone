{
  "cells": [
    {
      "cell_type": "markdown",
      "source": [
        "# Automated ML\n",
        "\n",
        "TODO: Import Dependencies. In the cell below, import all the dependencies that you will need to complete the project."
      ],
      "metadata": {}
    },
    {
      "cell_type": "code",
      "source": [
        "from azureml.core import Workspace, Experiment, Dataset, Datastore\n",
        "from azureml.core.compute import ComputeTarget, AmlCompute\n",
        "from azureml.core.compute_target import ComputeTargetException\n",
        "import logging\n",
        "from azureml.train.automl import AutoMLConfig\n",
        "from azureml.automl.core.forecasting_parameters import ForecastingParameters\n",
        "from azureml.widgets import RunDetails\n",
        "from sklearn.model_selection import train_test_split"
      ],
      "outputs": [],
      "execution_count": 1,
      "metadata": {
        "gather": {
          "logged": 1690838197740
        },
        "jupyter": {
          "outputs_hidden": false,
          "source_hidden": false
        },
        "nteract": {
          "transient": {
            "deleting": false
          }
        }
      }
    },
    {
      "cell_type": "markdown",
      "source": [
        "## Dataset\n",
        "\n",
        "### Overview\n",
        "\n",
        "This dataset contains information about sales of stores from a Retail Company, like Walmart.The dataset contains historical weekly sales values(target column) and other\n",
        "supporting variables for that period like:\n",
        "1. Store identifier\n",
        "2. average temperature in the week \n",
        "3. whether or not there was a holiday during the week\n",
        "4. fuel price\n",
        "5. Consumer Price Index(CPI)\n",
        "6. Unemployment rate \n",
        "\n",
        "The goal of this task is to use historical data to forecast sales numbers for the next four weeks(month). These predictions are going to support\n",
        "finance and business people in the company to manage the store's inventory. <br>\n",
        "This dataset comes from Kaggle and further details about it can be found [here.](https://www.kaggle.com/datasets/asahu40/walmart-data-analysis-and-forcasting) "
      ],
      "metadata": {}
    },
    {
      "cell_type": "markdown",
      "source": [
        "### Get data.\n",
        "I have downloaded the dataset from Kaggle and uploaded it to this notebook's working directory. <br>Now I am going to import it with the help of the\n",
        "Dataset class.\n"
      ],
      "metadata": {
        "nteract": {
          "transient": {
            "deleting": false
          }
        }
      }
    },
    {
      "cell_type": "code",
      "source": [
        "ws = Workspace.from_config()\n",
        "\n",
        "# choose a name for experiment\n",
        "experiment_name = 'capstone-project'\n",
        "\n",
        "experiment=Experiment(ws, experiment_name)"
      ],
      "outputs": [],
      "execution_count": 2,
      "metadata": {
        "gather": {
          "logged": 1690838204676
        },
        "jupyter": {
          "outputs_hidden": false,
          "source_hidden": false
        },
        "nteract": {
          "transient": {
            "deleting": false
          }
        }
      }
    },
    {
      "cell_type": "code",
      "source": [
        "datastore = Datastore.get(ws, datastore_name='workspaceworkingdirectory')"
      ],
      "outputs": [],
      "execution_count": 3,
      "metadata": {
        "jupyter": {
          "source_hidden": false,
          "outputs_hidden": false
        },
        "nteract": {
          "transient": {
            "deleting": false
          }
        },
        "gather": {
          "logged": 1690838207261
        }
      }
    },
    {
      "cell_type": "code",
      "source": [
        "data = Dataset.Tabular.from_delimited_files(path=(datastore, \"Users/hualcosa/nd00333-capstone/data/Walmart Data Analysis and Forcasting.csv\"))\n",
        "type(data)"
      ],
      "outputs": [
        {
          "output_type": "execute_result",
          "execution_count": 4,
          "data": {
            "text/plain": "azureml.data.tabular_dataset.TabularDataset"
          },
          "metadata": {}
        }
      ],
      "execution_count": 4,
      "metadata": {
        "jupyter": {
          "source_hidden": false,
          "outputs_hidden": false
        },
        "nteract": {
          "transient": {
            "deleting": false
          }
        },
        "gather": {
          "logged": 1690838216060
        }
      }
    },
    {
      "cell_type": "code",
      "source": [
        "# getting data as pandas dataframe for local experiment\n",
        "df = data.to_pandas_dataframe()\n",
        "df.head()"
      ],
      "outputs": [
        {
          "output_type": "execute_result",
          "execution_count": 5,
          "data": {
            "text/plain": "   Store       Date  Weekly_Sales  Holiday_Flag  Temperature  Fuel_Price  \\\n0      1 2010-02-05    1643690.90             0        42.31       2.572   \n1      1 2010-02-12    1641957.44             1        38.51       2.548   \n2      1 2010-02-19    1611968.17             0        39.93       2.514   \n3      1 2010-02-26    1409727.59             0        46.63       2.561   \n4      1 2010-03-05    1554806.68             0        46.50       2.625   \n\n          CPI  Unemployment  \n0  211.096358         8.106  \n1  211.242170         8.106  \n2  211.289143         8.106  \n3  211.319643         8.106  \n4  211.350143         8.106  ",
            "text/html": "<div>\n<style scoped>\n    .dataframe tbody tr th:only-of-type {\n        vertical-align: middle;\n    }\n\n    .dataframe tbody tr th {\n        vertical-align: top;\n    }\n\n    .dataframe thead th {\n        text-align: right;\n    }\n</style>\n<table border=\"1\" class=\"dataframe\">\n  <thead>\n    <tr style=\"text-align: right;\">\n      <th></th>\n      <th>Store</th>\n      <th>Date</th>\n      <th>Weekly_Sales</th>\n      <th>Holiday_Flag</th>\n      <th>Temperature</th>\n      <th>Fuel_Price</th>\n      <th>CPI</th>\n      <th>Unemployment</th>\n    </tr>\n  </thead>\n  <tbody>\n    <tr>\n      <th>0</th>\n      <td>1</td>\n      <td>2010-02-05</td>\n      <td>1643690.90</td>\n      <td>0</td>\n      <td>42.31</td>\n      <td>2.572</td>\n      <td>211.096358</td>\n      <td>8.106</td>\n    </tr>\n    <tr>\n      <th>1</th>\n      <td>1</td>\n      <td>2010-02-12</td>\n      <td>1641957.44</td>\n      <td>1</td>\n      <td>38.51</td>\n      <td>2.548</td>\n      <td>211.242170</td>\n      <td>8.106</td>\n    </tr>\n    <tr>\n      <th>2</th>\n      <td>1</td>\n      <td>2010-02-19</td>\n      <td>1611968.17</td>\n      <td>0</td>\n      <td>39.93</td>\n      <td>2.514</td>\n      <td>211.289143</td>\n      <td>8.106</td>\n    </tr>\n    <tr>\n      <th>3</th>\n      <td>1</td>\n      <td>2010-02-26</td>\n      <td>1409727.59</td>\n      <td>0</td>\n      <td>46.63</td>\n      <td>2.561</td>\n      <td>211.319643</td>\n      <td>8.106</td>\n    </tr>\n    <tr>\n      <th>4</th>\n      <td>1</td>\n      <td>2010-03-05</td>\n      <td>1554806.68</td>\n      <td>0</td>\n      <td>46.50</td>\n      <td>2.625</td>\n      <td>211.350143</td>\n      <td>8.106</td>\n    </tr>\n  </tbody>\n</table>\n</div>"
          },
          "metadata": {}
        }
      ],
      "execution_count": 5,
      "metadata": {
        "jupyter": {
          "source_hidden": false,
          "outputs_hidden": false
        },
        "nteract": {
          "transient": {
            "deleting": false
          }
        },
        "gather": {
          "logged": 1690838219553
        }
      }
    },
    {
      "cell_type": "code",
      "source": [
        "# registering dataset so It can be used for automl experiment\n",
        "data.register(ws, name=\"sales_forecasting\", description=\"capstone project dataset\")\n"
      ],
      "outputs": [
        {
          "output_type": "execute_result",
          "execution_count": 6,
          "data": {
            "text/plain": "{\n  \"source\": [\n    \"('workspaceworkingdirectory', 'Users/hualcosa/nd00333-capstone/data/Walmart Data Analysis and Forcasting.csv')\"\n  ],\n  \"definition\": [\n    \"GetDatastoreFiles\",\n    \"ParseDelimited\",\n    \"DropColumns\",\n    \"SetColumnTypes\"\n  ],\n  \"registration\": {\n    \"id\": \"a8489742-86d6-4cec-b52b-6098c3e55e4a\",\n    \"name\": \"sales_forecasting\",\n    \"version\": 1,\n    \"description\": \"capstone project dataset\",\n    \"workspace\": \"Workspace.create(name='capstone-project', subscription_id='d2706c67-acfc-4bd3-9067-3ff6ac190bc9', resource_group='capstone-project')\"\n  }\n}"
          },
          "metadata": {}
        }
      ],
      "execution_count": 6,
      "metadata": {
        "jupyter": {
          "source_hidden": false,
          "outputs_hidden": false
        },
        "nteract": {
          "transient": {
            "deleting": false
          }
        },
        "gather": {
          "logged": 1690838227547
        }
      }
    },
    {
      "cell_type": "markdown",
      "source": [
        "### Now that we have registered the dataset, it appears as an data asset, and can be used as an input source to the automl experiment.\n"
      ],
      "metadata": {
        "nteract": {
          "transient": {
            "deleting": false
          }
        }
      }
    },
    {
      "cell_type": "code",
      "source": [
        "# Choose a name for your CPU cluster\n",
        "cpu_cluster_name = \"capstone-cluster\"\n",
        "\n",
        "# Verify that cluster does not exist already\n",
        "try:\n",
        "    cpu_cluster = ComputeTarget(workspace=ws, name=cpu_cluster_name)\n",
        "    print('Found existing cluster, use it.')\n",
        "except ComputeTargetException:\n",
        "    # To use a different region for the compute, add a location='<region>' parameter\n",
        "    compute_config = AmlCompute.provisioning_configuration(vm_size='STANDARD_D2_V2', \n",
        "                                                            min_nodes=1,\n",
        "                                                           max_nodes=4)\n",
        "    cpu_cluster = ComputeTarget.create(ws, cpu_cluster_name, compute_config)\n",
        "\n",
        "cpu_cluster.wait_for_completion(show_output=True)"
      ],
      "outputs": [
        {
          "output_type": "stream",
          "name": "stdout",
          "text": "Found existing cluster, use it.\nSucceeded\nAmlCompute wait for completion finished\n\nMinimum number of nodes requested have been provisioned\n"
        }
      ],
      "execution_count": 7,
      "metadata": {
        "jupyter": {
          "source_hidden": false,
          "outputs_hidden": false
        },
        "nteract": {
          "transient": {
            "deleting": false
          }
        },
        "gather": {
          "logged": 1690838239711
        }
      }
    },
    {
      "cell_type": "markdown",
      "source": [
        "\n",
        "## AutoML Configuration\n",
        "In order to run the the AutoML experiment, we set the following parameters:\n",
        "- compute_target where the experiment is going to run. In our case, the compute cluster, we just created\n",
        "- primary metric: The metric we want to optimize. Since we're dealing with a time series forecasting problem, Normalized root mean squared error is a great pick\n",
        "- experiment_timeout_minutes: Maximum time that the experiment can run. I want the experiment to run for 60 minutes maximum.\n",
        "- enable_early_stopping: Set it to True to allow the training iteration to prematurely end if the model scores are not improving\n",
        "- n_cross_validations and cv_step_size: cross validation parameters. Set it to \"auto\" so automl job can investigate how to best split the data to perform cross validation\n",
        "- y_min and y_max: The minimum and maximum values used to normalize RMSE. We set this values so we can have the same standard later when running the hyperdrive experiment \n",
        "- Verbosity: set logging verbosity to INFO\n",
        "- Forecasting parameters: Object containing info about the forecasting job that needs to be performed. In our specifc case, it specifies what is the name of the time column, <br>\n",
        "what is the forecast horizon(4 weeks) and what column(s) identify the time series"
      ],
      "metadata": {}
    },
    {
      "cell_type": "code",
      "source": [
        "forecasting_parameters = ForecastingParameters(time_column_name='Date', \n",
        "                                               forecast_horizon=4,\n",
        "                                               time_series_id_column_names='Store')\n",
        "                                               \n",
        "automl_settings = {'compute_target': cpu_cluster,\n",
        "                    'primary_metric':'normalized_root_mean_squared_error',\n",
        "                    'experiment_timeout_minutes': 30,\n",
        "                    'enable_early_stopping': True,\n",
        "                    'n_cross_validations': \"auto\",\n",
        "                    'cv_step_size' : \"auto\", \n",
        "                    'y_min': df.Weekly_Sales.min(),\n",
        "                    'y_max': df.Weekly_Sales.max(),\n",
        "                    'verbosity': logging.INFO,\n",
        "                    'forecasting_parameters': forecasting_parameters}\n",
        "\n",
        "automl_config = AutoMLConfig(\n",
        "                             task='forecasting',\n",
        "                             training_data=data,\n",
        "                             label_column_name='Weekly_Sales',\n",
        "                             **automl_settings\n",
        "                             )"
      ],
      "outputs": [],
      "execution_count": 11,
      "metadata": {
        "jupyter": {
          "source_hidden": false,
          "outputs_hidden": false
        },
        "nteract": {
          "transient": {
            "deleting": false
          }
        },
        "gather": {
          "logged": 1690841239581
        }
      }
    },
    {
      "cell_type": "code",
      "source": [
        "# TODO: Submit your experiment\n",
        "automl_run = experiment.submit(automl_config)"
      ],
      "outputs": [
        {
          "output_type": "stream",
          "name": "stdout",
          "text": "Submitting remote run.\n"
        },
        {
          "output_type": "display_data",
          "data": {
            "text/html": "<table style=\"width:100%\"><tr><th>Experiment</th><th>Id</th><th>Type</th><th>Status</th><th>Details Page</th><th>Docs Page</th></tr><tr><td>capstone-project</td><td>AutoML_cf491250-efcb-4015-bd49-e5c11cd8fbfe</td><td>automl</td><td>NotStarted</td><td><a href=\"https://ml.azure.com/runs/AutoML_cf491250-efcb-4015-bd49-e5c11cd8fbfe?wsid=/subscriptions/d2706c67-acfc-4bd3-9067-3ff6ac190bc9/resourcegroups/capstone-project/workspaces/capstone-project&amp;tid=9a8d38e4-12e5-43af-8de6-e9f9c0e696da\" target=\"_blank\" rel=\"noopener\">Link to Azure Machine Learning studio</a></td><td><a href=\"https://docs.microsoft.com/en-us/python/api/overview/azure/ml/intro?view=azure-ml-py\" target=\"_blank\" rel=\"noopener\">Link to Documentation</a></td></tr></table>"
          },
          "metadata": {}
        }
      ],
      "execution_count": 12,
      "metadata": {
        "gather": {
          "logged": 1690841246506
        },
        "jupyter": {
          "outputs_hidden": false,
          "source_hidden": false
        },
        "nteract": {
          "transient": {
            "deleting": false
          }
        }
      }
    },
    {
      "cell_type": "markdown",
      "source": [
        "## Run Details\n",
        "\n",
        "OPTIONAL: Write about the different models trained and their performance. Why do you think some models did better than others?\n",
        "\n",
        "TODO: In the cell below, use the `RunDetails` widget to show the different experiments."
      ],
      "metadata": {}
    },
    {
      "cell_type": "code",
      "source": [
        "RunDetails(automl_run).show()"
      ],
      "outputs": [
        {
          "output_type": "display_data",
          "data": {
            "text/plain": "_AutoMLWidget(widget_settings={'childWidgetDisplay': 'popup', 'send_telemetry': False, 'log_level': 'INFO', 's…",
            "application/vnd.jupyter.widget-view+json": {
              "version_major": 2,
              "version_minor": 0,
              "model_id": "7c2d75eb6eca4c5ca30577c3399c1a2b"
            }
          },
          "metadata": {}
        },
        {
          "output_type": "display_data",
          "data": {
            "application/aml.mini.widget.v1": "{\"status\": \"Completed\", \"workbench_run_details_uri\": \"https://ml.azure.com/runs/AutoML_cf491250-efcb-4015-bd49-e5c11cd8fbfe?wsid=/subscriptions/d2706c67-acfc-4bd3-9067-3ff6ac190bc9/resourcegroups/capstone-project/workspaces/capstone-project&tid=9a8d38e4-12e5-43af-8de6-e9f9c0e696da\", \"run_id\": \"AutoML_cf491250-efcb-4015-bd49-e5c11cd8fbfe\", \"run_properties\": {\"run_id\": \"AutoML_cf491250-efcb-4015-bd49-e5c11cd8fbfe\", \"created_utc\": \"2023-07-31T22:07:25.451077Z\", \"properties\": {\"num_iterations\": \"1000\", \"training_type\": \"TrainFull\", \"acquisition_function\": \"EI\", \"primary_metric\": \"normalized_root_mean_squared_error\", \"train_split\": \"0\", \"acquisition_parameter\": \"0\", \"num_cross_validation\": \"auto\", \"target\": \"capstone-cluster\", \"AMLSettingsJsonString\": \"{\\\"path\\\":null,\\\"name\\\":\\\"capstone-project\\\",\\\"subscription_id\\\":\\\"d2706c67-acfc-4bd3-9067-3ff6ac190bc9\\\",\\\"resource_group\\\":\\\"capstone-project\\\",\\\"workspace_name\\\":\\\"capstone-project\\\",\\\"region\\\":\\\"brazilsouth\\\",\\\"compute_target\\\":\\\"capstone-cluster\\\",\\\"spark_service\\\":null,\\\"azure_service\\\":\\\"remote\\\",\\\"many_models\\\":false,\\\"pipeline_fetch_max_batch_size\\\":1,\\\"enable_batch_run\\\":true,\\\"enable_parallel_run\\\":false,\\\"num_procs\\\":null,\\\"enable_run_restructure\\\":false,\\\"start_auxiliary_runs_before_parent_complete\\\":false,\\\"enable_code_generation\\\":true,\\\"iterations\\\":1000,\\\"primary_metric\\\":\\\"normalized_root_mean_squared_error\\\",\\\"task_type\\\":\\\"regression\\\",\\\"positive_label\\\":null,\\\"data_script\\\":null,\\\"test_size\\\":0.0,\\\"test_include_predictions_only\\\":false,\\\"validation_size\\\":0.0,\\\"n_cross_validations\\\":\\\"auto\\\",\\\"y_min\\\":null,\\\"y_max\\\":null,\\\"num_classes\\\":null,\\\"featurization\\\":\\\"auto\\\",\\\"_ignore_package_version_incompatibilities\\\":false,\\\"is_timeseries\\\":true,\\\"max_cores_per_iteration\\\":1,\\\"max_concurrent_iterations\\\":1,\\\"iteration_timeout_minutes\\\":null,\\\"mem_in_mb\\\":null,\\\"enforce_time_on_windows\\\":false,\\\"experiment_timeout_minutes\\\":30,\\\"experiment_exit_score\\\":null,\\\"partition_column_names\\\":null,\\\"whitelist_models\\\":null,\\\"blacklist_algos\\\":[\\\"TensorFlowDNN\\\",\\\"TensorFlowLinearRegressor\\\"],\\\"supported_models\\\":[\\\"DecisionTree\\\",\\\"LassoLars\\\",\\\"ElasticNet\\\",\\\"LightGBM\\\",\\\"Average\\\",\\\"TabnetRegressor\\\",\\\"TCNForecaster\\\",\\\"Naive\\\",\\\"XGBoostRegressor\\\",\\\"TensorFlowDNN\\\",\\\"ExponentialSmoothing\\\",\\\"Prophet\\\",\\\"TensorFlowLinearRegressor\\\",\\\"RandomForest\\\",\\\"SGD\\\",\\\"SeasonalNaive\\\",\\\"ExtremeRandomTrees\\\",\\\"Arimax\\\",\\\"SeasonalAverage\\\",\\\"GradientBoosting\\\",\\\"AutoArima\\\",\\\"KNN\\\"],\\\"private_models\\\":[],\\\"auto_blacklist\\\":true,\\\"blacklist_samples_reached\\\":false,\\\"exclude_nan_labels\\\":true,\\\"verbosity\\\":20,\\\"_debug_log\\\":\\\"azureml_automl.log\\\",\\\"show_warnings\\\":false,\\\"model_explainability\\\":true,\\\"service_url\\\":null,\\\"sdk_url\\\":null,\\\"sdk_packages\\\":null,\\\"enable_onnx_compatible_models\\\":false,\\\"enable_split_onnx_featurizer_estimator_models\\\":false,\\\"vm_type\\\":\\\"STANDARD_D2_V2\\\",\\\"telemetry_verbosity\\\":20,\\\"send_telemetry\\\":true,\\\"enable_dnn\\\":false,\\\"scenario\\\":\\\"AutoML\\\",\\\"environment_label\\\":null,\\\"save_mlflow\\\":false,\\\"enable_categorical_indicators\\\":false,\\\"force_text_dnn\\\":false,\\\"enable_feature_sweeping\\\":false,\\\"time_column_name\\\":\\\"Date\\\",\\\"grain_column_names\\\":[\\\"Store\\\"],\\\"drop_column_names\\\":[],\\\"max_horizon\\\":4,\\\"dropna\\\":false,\\\"overwrite_columns\\\":true,\\\"transform_dictionary\\\":{\\\"min\\\":\\\"_automl_target_col\\\",\\\"max\\\":\\\"_automl_target_col\\\",\\\"mean\\\":\\\"_automl_target_col\\\"},\\\"window_size\\\":null,\\\"country_or_region\\\":null,\\\"lags\\\":null,\\\"feature_lags\\\":null,\\\"seasonality\\\":\\\"auto\\\",\\\"use_stl\\\":null,\\\"short_series_handling\\\":true,\\\"freq\\\":null,\\\"short_series_handling_configuration\\\":\\\"auto\\\",\\\"target_aggregation_function\\\":null,\\\"cv_step_size\\\":\\\"auto\\\",\\\"has_multiple_series\\\":true,\\\"enable_early_stopping\\\":true,\\\"early_stopping_n_iters\\\":10,\\\"arguments\\\":null,\\\"dataset_id\\\":\\\"a8489742-86d6-4cec-b52b-6098c3e55e4a\\\",\\\"hyperdrive_config\\\":null,\\\"validation_dataset_id\\\":null,\\\"run_source\\\":null,\\\"metrics\\\":null,\\\"enable_metric_confidence\\\":false,\\\"enable_ensembling\\\":true,\\\"enable_stack_ensembling\\\":false,\\\"ensemble_iterations\\\":15,\\\"enable_tf\\\":false,\\\"enable_subsampling\\\":false,\\\"subsample_seed\\\":null,\\\"enable_nimbusml\\\":false,\\\"enable_streaming\\\":false,\\\"force_streaming\\\":false,\\\"track_child_runs\\\":true,\\\"n_best_runs\\\":1,\\\"allowed_private_models\\\":[],\\\"label_column_name\\\":\\\"Weekly_Sales\\\",\\\"weight_column_name\\\":null,\\\"cv_split_column_names\\\":null,\\\"enable_local_managed\\\":false,\\\"_local_managed_run_id\\\":null,\\\"cost_mode\\\":1,\\\"lag_length\\\":0,\\\"metric_operation\\\":\\\"minimize\\\",\\\"preprocess\\\":true}\", \"DataPrepJsonString\": \"{\\\\\\\"training_data\\\\\\\": {\\\\\\\"datasetId\\\\\\\": \\\\\\\"a8489742-86d6-4cec-b52b-6098c3e55e4a\\\\\\\"}, \\\\\\\"datasets\\\\\\\": 0}\", \"EnableSubsampling\": \"False\", \"runTemplate\": \"AutoML\", \"azureml.runsource\": \"automl\", \"display_task_type\": \"forecasting\", \"dependencies_versions\": \"{\\\"azureml-dataprep-native\\\": \\\"38.0.0\\\", \\\"azureml-dataprep\\\": \\\"4.10.8\\\", \\\"azureml-dataprep-rslex\\\": \\\"2.17.12\\\", \\\"azureml-train-automl-runtime\\\": \\\"1.51.0.post2\\\", \\\"azureml-train-automl-client\\\": \\\"1.51.0.post1\\\", \\\"azureml-training-tabular\\\": \\\"1.51.0.post1\\\", \\\"azureml-automl-runtime\\\": \\\"1.51.0.post1\\\", \\\"azureml-automl-core\\\": \\\"1.51.0.post1\\\", \\\"azureml-mlflow\\\": \\\"1.51.0\\\", \\\"azureml-datadrift\\\": \\\"1.51.0\\\", \\\"azureml-pipeline\\\": \\\"1.51.0\\\", \\\"azureml-contrib-dataset\\\": \\\"1.51.0\\\", \\\"azureml-contrib-notebook\\\": \\\"1.51.0\\\", \\\"azureml-accel-models\\\": \\\"1.51.0\\\", \\\"azureml-automl-dnn-nlp\\\": \\\"1.51.0\\\", \\\"azureml-pipeline-core\\\": \\\"1.51.0\\\", \\\"azureml-responsibleai\\\": \\\"1.51.0\\\", \\\"azureml-contrib-automl-pipeline-steps\\\": \\\"1.51.0\\\", \\\"azureml-pipeline-steps\\\": \\\"1.51.0\\\", \\\"azureml-core\\\": \\\"1.51.0\\\", \\\"azureml-contrib-reinforcementlearning\\\": \\\"1.51.0\\\", \\\"azureml-contrib-server\\\": \\\"1.51.0\\\", \\\"azureml-opendatasets\\\": \\\"1.51.0\\\", \\\"azureml-contrib-services\\\": \\\"1.51.0\\\", \\\"azureml-telemetry\\\": \\\"1.51.0\\\", \\\"azureml-train-restclients-hyperdrive\\\": \\\"1.51.0\\\", \\\"azureml-interpret\\\": \\\"1.51.0\\\", \\\"azureml-train-core\\\": \\\"1.51.0\\\", \\\"azureml-tensorboard\\\": \\\"1.51.0\\\", \\\"azureml-train\\\": \\\"1.51.0\\\", \\\"azureml-contrib-pipeline-steps\\\": \\\"1.51.0\\\", \\\"azureml-explain-model\\\": \\\"1.51.0\\\", \\\"azureml-cli-common\\\": \\\"1.51.0\\\", \\\"azureml-widgets\\\": \\\"1.51.0\\\", \\\"azureml-train-automl\\\": \\\"1.51.0\\\", \\\"azureml-defaults\\\": \\\"1.51.0\\\", \\\"azureml-contrib-fairness\\\": \\\"1.51.0\\\", \\\"azureml-sdk\\\": \\\"1.51.0\\\", \\\"azureml-dataset-runtime\\\": \\\"1.51.0\\\", \\\"azureml-inference-server-http\\\": \\\"0.8.4\\\"}\", \"_aml_system_scenario_identification\": \"Remote.Parent\", \"ClientType\": \"SDK\", \"PlatformVersion\": \"DPV1\", \"environment_cpu_name\": \"AzureML-AutoML\", \"environment_cpu_label\": \"prod\", \"environment_gpu_name\": \"AzureML-AutoML-GPU\", \"environment_gpu_label\": \"prod\", \"root_attribution\": \"automl\", \"attribution\": \"AutoML\", \"Orchestrator\": \"AutoML\", \"CancelUri\": \"https://brazilsouth.api.azureml.ms/jasmine/v1.0/subscriptions/d2706c67-acfc-4bd3-9067-3ff6ac190bc9/resourceGroups/capstone-project/providers/Microsoft.MachineLearningServices/workspaces/capstone-project/experimentids/9253df1b-65f6-47e2-94b4-5d0194f9a163/cancel/AutoML_cf491250-efcb-4015-bd49-e5c11cd8fbfe\", \"ClientSdkVersion\": null, \"snapshotId\": \"00000000-0000-0000-0000-000000000000\", \"SetupRunId\": \"AutoML_cf491250-efcb-4015-bd49-e5c11cd8fbfe_setup\", \"SetupRunContainerId\": \"dcid.AutoML_cf491250-efcb-4015-bd49-e5c11cd8fbfe_setup\", \"forecasting_target_lags\": \"[0]\", \"forecasting_target_rolling_window_size\": \"0\", \"forecasting_max_horizon\": \"4\", \"forecasting_freq\": \"W-FRI\", \"ProblemInfoJsonString\": \"{\\\"dataset_num_categorical\\\": 0, \\\"is_sparse\\\": false, \\\"subsampling\\\": false, \\\"has_extra_col\\\": true, \\\"dataset_classes\\\": 6435, \\\"dataset_features\\\": 18, \\\"dataset_samples\\\": 6435, \\\"single_frequency_class_detected\\\": false, \\\"series_column_count\\\": 1, \\\"series_count\\\": 45, \\\"series_len_min\\\": 143, \\\"series_len_max\\\": 143, \\\"series_len_avg\\\": 143.0, \\\"series_len_perc_25\\\": 143.0, \\\"series_len_perc_50\\\": 143.0, \\\"series_len_perc_75\\\": 143.0}\", \"ModelExplainRunId\": \"AutoML_cf491250-efcb-4015-bd49-e5c11cd8fbfe_ModelExplain\"}, \"tags\": {\"model_explain_run\": \"best_run\", \"_aml_system_automl_run_workspace_id\": \"e37a0e0b-205a-4d40-92c2-c93d6610cd40\", \"_aml_system_azureml.automlComponent\": \"AutoML\", \"pipeline_id_000\": \"__AutoML_Naive__;__AutoML_SeasonalNaive__;__AutoML_Average__;__AutoML_SeasonalAverage__;__AutoML_ExponentialSmoothing__;__AutoML_Arimax__;__AutoML_Prophet__;faf12f74cf9bbd358ca5525682c5030d36f7be7c;4bc4ec47eb8df2d5d68b361cd60120e65196f757;2dc95d8bafd84221b8de309021c722b4fa570e77;25f83b241b8941c8c1f896a8338015dbab159f71;1ee8bbdda30f414fb76bee47d543cd5e109dcdf8;86f7c6ce026522eff88f32e647e3e27450da2679;6ea29a0b9fd1f634678397a456aaf8d4d853f689;7839ca66a0ff9be386363c852f0384a7b2a1c93f;4379608887dc335ce8c4ec4afbec7da03177d166;ae729f09378486945c70eb2a2306f8aa8f4e30a7;13907c2227a8ccd337dcfb9775a6091b777331e0;7b7eb05148aedbc9f680e7533de408ae512d737a;65d7c43a91915b98bea837d39e652767814c8983;480f8271b09711d8daebb36454a153b84ef1254e;e647a57da02d25aba6061b72d5df7283520175ad;__AutoML_Ensemble__\", \"score_000\": \"0.09446223239419467;0.07462866411712663;0.09449536304910533;0.07371932658036459;0.08162761753999871;0.07269430812245473;0.07184817813729696;0.10225232628950975;0.10598796838258509;0.4837674822701456;0.48512626774047946;0.48505842153291195;0.48516861790245686;0.3926613144965797;0.4838864193870057;0.48518178334140066;0.48518073412637863;0.48516185134057066;0.3155636214389577;0.12899704320496905;0.3734448642710751;0.46838074669061136;0.05943158667421881\", \"predicted_cost_000\": \"0;0;0;0;0;0;0;0.5;0.5;0.5;0.5;0.5;0.5;0.5;0.5;0.5;0.5;0.5;0.5;0.5;0.3427948381583961;0.10348494017003675;0\", \"fit_time_000\": \"0.42668100000000003;0.4052344;0.41524599999999995;0.4138446;94.12626880000002;27.523938800000003;22.983869;0.1753314;0.9038742000000001;0.072275;0.058921999999999995;0.06805580000000001;0.08346880000000001;0.16441999999999998;0.0735624;0.0814376;0.07716680000000001;0.0663196;0.1271624;0.5044062;0.24122780000000002;0.0764142;39\", \"training_percent_000\": \"100;100;100;100;100;100;100;100;100;100;100;100;100;100;100;100;100;100;100;100;100;100;100\", \"iteration_000\": \"0;1;2;3;4;5;6;7;8;9;10;11;12;13;14;15;16;17;18;19;20;21;22\", \"run_preprocessor_000\": \";;;;;;;StandardScalerWrapper;StandardScalerWrapper;MaxAbsScaler;RobustScaler;MinMaxScaler;StandardScalerWrapper;MinMaxScaler;MaxAbsScaler;StandardScalerWrapper;MaxAbsScaler;StandardScalerWrapper;MinMaxScaler;MinMaxScaler;MinMaxScaler;MinMaxScaler;\", \"run_algorithm_000\": \"Naive;SeasonalNaive;Average;SeasonalAverage;ExponentialSmoothing;Arimax;ProphetModel;LightGBM;XGBoostRegressor;ElasticNet;ElasticNet;ElasticNet;ElasticNet;RandomForest;ElasticNet;ElasticNet;ElasticNet;ElasticNet;ExtremeRandomTrees;RandomForest;ExtremeRandomTrees;ExtremeRandomTrees;VotingEnsemble\", \"_aml_system_azureml.automl_early_exit_message\": \"Experiment timeout reached, hence experiment stopped. Current experiment timeout: 0 hour(s) 30 minute(s)\", \"automl_best_child_run_id\": \"AutoML_cf491250-efcb-4015-bd49-e5c11cd8fbfe_22\", \"model_explain_best_run_child_id\": \"AutoML_cf491250-efcb-4015-bd49-e5c11cd8fbfe_22\"}, \"end_time_utc\": \"2023-07-31T22:42:04.01712Z\", \"status\": \"Completed\", \"log_files\": {}, \"log_groups\": [], \"run_duration\": \"0:34:38\", \"run_number\": \"1690841245\", \"run_queued_details\": {\"status\": \"Completed\", \"details\": null}}, \"child_runs\": [{\"run_id\": \"AutoML_cf491250-efcb-4015-bd49-e5c11cd8fbfe_setup\", \"run_number\": 1690841257, \"metric\": null, \"status\": \"Completed\", \"run_type\": \"azureml.scriptrun\", \"training_percent\": null, \"start_time\": \"2023-07-31T22:07:56.89958Z\", \"end_time\": \"2023-07-31T22:10:13.867193Z\", \"created_time\": \"2023-07-31T22:07:37.54918Z\", \"created_time_dt\": \"2023-07-31T22:07:37.54918Z\", \"duration\": \"0:02:36\", \"iteration\": null, \"goal\": null, \"run_name\": \"Completed\", \"run_properties\": null}, {\"run_id\": \"AutoML_cf491250-efcb-4015-bd49-e5c11cd8fbfe_0\", \"run_number\": 1690841415, \"metric\": null, \"status\": \"Completed\", \"run_type\": null, \"training_percent\": \"100\", \"start_time\": \"2023-07-31T22:11:54.154233Z\", \"end_time\": \"2023-07-31T22:12:15.900741Z\", \"created_time\": \"2023-07-31T22:10:15.279284Z\", \"created_time_dt\": \"2023-07-31T22:10:15.279284Z\", \"duration\": \"0:02:00\", \"iteration\": \"0\", \"goal\": \"normalized_root_mean_squared_error_min\", \"run_name\": \"Naive\", \"run_properties\": \"timeseries_param_dict={'time_column_name': 'Date', 'grain_column_names': ['Store'], 'target_column_name': 'Weekly_Sales', 'drop_column_names': [], 'overwrite_columns': True, 'dropna': False, 'transform_dictionary': {'min': '_automl_target_col', 'max': '_automl_target_col', 'mean': '_automl_target_col'}, 'max_horizon': 4, 'origin_time_colname': 'origin', 'country_or_region': None, 'n_cross_validations': 5, 'short_series_handling': True, 'max_cores_per_iteration': 1, 'feature_lags': None, 'target_aggregation_function': None, 'cv_step_size': 4, 'seasonality': 4, 'use_stl': None, 'freq': 'W-FRI', 'short_series_handling_configuration': 'auto', 'target_lags': [0], 'target_rolling_window_size': 0, 'arimax_raw_columns': ['Holiday_Flag', 'Unemployment', 'CPI', 'Fuel_Price', 'Date', 'Store', 'Temperature']}\", \"primary_metric\": 0.09446223, \"best_metric\": 0.09446223}, {\"run_id\": \"AutoML_cf491250-efcb-4015-bd49-e5c11cd8fbfe_2\", \"run_number\": 1690841416, \"metric\": null, \"status\": \"Completed\", \"run_type\": null, \"training_percent\": \"100\", \"start_time\": \"2023-07-31T22:12:36.027605Z\", \"end_time\": \"2023-07-31T22:12:53.189465Z\", \"created_time\": \"2023-07-31T22:10:16.719932Z\", \"created_time_dt\": \"2023-07-31T22:10:16.719932Z\", \"duration\": \"0:02:36\", \"iteration\": \"2\", \"goal\": \"normalized_root_mean_squared_error_min\", \"run_name\": \"Average\", \"run_properties\": \"timeseries_param_dict={'time_column_name': 'Date', 'grain_column_names': ['Store'], 'target_column_name': 'Weekly_Sales', 'drop_column_names': [], 'overwrite_columns': True, 'dropna': False, 'transform_dictionary': {'min': '_automl_target_col', 'max': '_automl_target_col', 'mean': '_automl_target_col'}, 'max_horizon': 4, 'origin_time_colname': 'origin', 'country_or_region': None, 'n_cross_validations': 5, 'short_series_handling': True, 'max_cores_per_iteration': 1, 'feature_lags': None, 'target_aggregation_function': None, 'cv_step_size': 4, 'seasonality': 4, 'use_stl': None, 'freq': 'W-FRI', 'short_series_handling_configuration': 'auto', 'target_lags': [0], 'target_rolling_window_size': 0, 'arimax_raw_columns': ['Holiday_Flag', 'Unemployment', 'CPI', 'Fuel_Price', 'Date', 'Store', 'Temperature']}\", \"primary_metric\": 0.09449536, \"best_metric\": 0.09446223}, {\"run_id\": \"AutoML_cf491250-efcb-4015-bd49-e5c11cd8fbfe_3\", \"run_number\": 1690841417, \"metric\": null, \"status\": \"Completed\", \"run_type\": null, \"training_percent\": \"100\", \"start_time\": \"2023-07-31T22:12:54.574614Z\", \"end_time\": \"2023-07-31T22:13:12.021298Z\", \"created_time\": \"2023-07-31T22:10:17.102008Z\", \"created_time_dt\": \"2023-07-31T22:10:17.102008Z\", \"duration\": \"0:02:54\", \"iteration\": \"3\", \"goal\": \"normalized_root_mean_squared_error_min\", \"run_name\": \"SeasonalAverage\", \"run_properties\": \"timeseries_param_dict={'time_column_name': 'Date', 'grain_column_names': ['Store'], 'target_column_name': 'Weekly_Sales', 'drop_column_names': [], 'overwrite_columns': True, 'dropna': False, 'transform_dictionary': {'min': '_automl_target_col', 'max': '_automl_target_col', 'mean': '_automl_target_col'}, 'max_horizon': 4, 'origin_time_colname': 'origin', 'country_or_region': None, 'n_cross_validations': 5, 'short_series_handling': True, 'max_cores_per_iteration': 1, 'feature_lags': None, 'target_aggregation_function': None, 'cv_step_size': 4, 'seasonality': 4, 'use_stl': None, 'freq': 'W-FRI', 'short_series_handling_configuration': 'auto', 'target_lags': [0], 'target_rolling_window_size': 0, 'arimax_raw_columns': ['Holiday_Flag', 'Unemployment', 'CPI', 'Fuel_Price', 'Date', 'Store', 'Temperature']}\"}, {\"run_id\": \"AutoML_cf491250-efcb-4015-bd49-e5c11cd8fbfe_6\", \"run_number\": 1690841418, \"metric\": null, \"status\": \"Completed\", \"run_type\": null, \"training_percent\": \"100\", \"start_time\": \"2023-07-31T22:25:58.083602Z\", \"end_time\": \"2023-07-31T22:28:31.76185Z\", \"created_time\": \"2023-07-31T22:10:18.379185Z\", \"created_time_dt\": \"2023-07-31T22:10:18.379185Z\", \"duration\": \"0:18:13\", \"iteration\": \"6\", \"goal\": \"normalized_root_mean_squared_error_min\", \"run_name\": \"ProphetModel\", \"run_properties\": \"timeseries_param_dict={'time_column_name': 'Date', 'grain_column_names': ['Store'], 'target_column_name': 'Weekly_Sales', 'drop_column_names': [], 'overwrite_columns': True, 'dropna': False, 'transform_dictionary': {'min': '_automl_target_col', 'max': '_automl_target_col', 'mean': '_automl_target_col'}, 'max_horizon': 4, 'origin_time_colname': 'origin', 'country_or_region': None, 'n_cross_validations': 5, 'short_series_handling': True, 'max_cores_per_iteration': 1, 'feature_lags': None, 'target_aggregation_function': None, 'cv_step_size': 4, 'seasonality': 4, 'use_stl': None, 'freq': 'W-FRI', 'short_series_handling_configuration': 'auto', 'target_lags': [0], 'target_rolling_window_size': 0, 'arimax_raw_columns': ['Holiday_Flag', 'Unemployment', 'CPI', 'Fuel_Price', 'Date', 'Store', 'Temperature']}\", \"primary_metric\": 0.07184818, \"best_metric\": 0.07184818}, {\"run_id\": \"AutoML_cf491250-efcb-4015-bd49-e5c11cd8fbfe_8\", \"run_number\": 1690841419, \"metric\": null, \"status\": \"Completed\", \"run_type\": null, \"training_percent\": \"100\", \"start_time\": \"2023-07-31T22:28:52.053895Z\", \"end_time\": \"2023-07-31T22:29:13.306254Z\", \"created_time\": \"2023-07-31T22:10:19.338955Z\", \"created_time_dt\": \"2023-07-31T22:10:19.338955Z\", \"duration\": \"0:18:53\", \"iteration\": \"8\", \"goal\": \"normalized_root_mean_squared_error_min\", \"run_name\": \"StandardScalerWrapper, XGBoostRegressor\", \"run_properties\": \"copy=True, with_mean=False, with_std=False\", \"primary_metric\": 0.10598797, \"best_metric\": 0.07184818}, {\"run_id\": \"AutoML_cf491250-efcb-4015-bd49-e5c11cd8fbfe_10\", \"run_number\": 1690841420, \"metric\": null, \"status\": \"Completed\", \"run_type\": null, \"training_percent\": \"100\", \"start_time\": \"2023-07-31T22:29:33.017843Z\", \"end_time\": \"2023-07-31T22:29:49.061137Z\", \"created_time\": \"2023-07-31T22:10:20.214703Z\", \"created_time_dt\": \"2023-07-31T22:10:20.214703Z\", \"duration\": \"0:19:28\", \"iteration\": \"10\", \"goal\": \"normalized_root_mean_squared_error_min\", \"run_name\": \"RobustScaler, ElasticNet\", \"run_properties\": \"copy=True, quantile_range=[10, 90], with_centering=True,\\n             with_scaling=False\", \"primary_metric\": 0.48512627, \"best_metric\": 0.07184818}, {\"run_id\": \"AutoML_cf491250-efcb-4015-bd49-e5c11cd8fbfe_12\", \"run_number\": 1690841421, \"metric\": null, \"status\": \"Completed\", \"run_type\": null, \"training_percent\": \"100\", \"start_time\": \"2023-07-31T22:30:08.514642Z\", \"end_time\": \"2023-07-31T22:30:25.608592Z\", \"created_time\": \"2023-07-31T22:10:21.078497Z\", \"created_time_dt\": \"2023-07-31T22:10:21.078497Z\", \"duration\": \"0:20:04\", \"iteration\": \"12\", \"goal\": \"normalized_root_mean_squared_error_min\", \"run_name\": \"StandardScalerWrapper, ElasticNet\", \"run_properties\": \"copy=True, with_mean=False, with_std=True\", \"primary_metric\": 0.48516862, \"best_metric\": 0.07184818}, {\"run_id\": \"AutoML_cf491250-efcb-4015-bd49-e5c11cd8fbfe_15\", \"run_number\": 1690841422, \"metric\": null, \"status\": \"Completed\", \"run_type\": null, \"training_percent\": \"100\", \"start_time\": \"2023-07-31T22:31:03.078365Z\", \"end_time\": \"2023-07-31T22:31:20.044343Z\", \"created_time\": \"2023-07-31T22:10:22.294748Z\", \"created_time_dt\": \"2023-07-31T22:10:22.294748Z\", \"duration\": \"0:20:57\", \"iteration\": \"15\", \"goal\": \"normalized_root_mean_squared_error_min\", \"run_name\": \"StandardScalerWrapper, ElasticNet\", \"run_properties\": \"copy=True, with_mean=True, with_std=False\", \"primary_metric\": 0.48518178, \"best_metric\": 0.07184818}, {\"run_id\": \"AutoML_cf491250-efcb-4015-bd49-e5c11cd8fbfe_17\", \"run_number\": 1690841423, \"metric\": null, \"status\": \"Completed\", \"run_type\": null, \"training_percent\": \"100\", \"start_time\": \"2023-07-31T22:31:39.893445Z\", \"end_time\": \"2023-07-31T22:31:56.531834Z\", \"created_time\": \"2023-07-31T22:10:23.063963Z\", \"created_time_dt\": \"2023-07-31T22:10:23.063963Z\", \"duration\": \"0:21:33\", \"iteration\": \"17\", \"goal\": \"normalized_root_mean_squared_error_min\", \"run_name\": \"StandardScalerWrapper, ElasticNet\", \"run_properties\": \"copy=True, with_mean=True, with_std=False\", \"primary_metric\": 0.48516185, \"best_metric\": 0.07184818}, {\"run_id\": \"AutoML_cf491250-efcb-4015-bd49-e5c11cd8fbfe_worker_0\", \"run_number\": 1690841424, \"metric\": null, \"status\": \"Completed\", \"run_type\": \"azureml.scriptrun\", \"training_percent\": null, \"start_time\": \"2023-07-31T22:11:40.313605Z\", \"end_time\": \"2023-07-31T22:32:50.179324Z\", \"created_time\": \"2023-07-31T22:10:24.137207Z\", \"created_time_dt\": \"2023-07-31T22:10:24.137207Z\", \"duration\": \"0:22:26\", \"iteration\": null, \"goal\": null, \"run_name\": \"Completed\", \"run_properties\": null}, {\"run_id\": \"AutoML_cf491250-efcb-4015-bd49-e5c11cd8fbfe_20\", \"run_number\": 1690843050, \"metric\": null, \"status\": \"Completed\", \"run_type\": \"azureml.scriptrun\", \"training_percent\": \"100\", \"start_time\": \"2023-07-31T22:37:42.10993Z\", \"end_time\": \"2023-07-31T22:38:23.049628Z\", \"created_time\": \"2023-07-31T22:37:30.660515Z\", \"created_time_dt\": \"2023-07-31T22:37:30.660515Z\", \"duration\": \"0:00:52\", \"iteration\": \"20\", \"goal\": \"normalized_root_mean_squared_error_min\", \"run_name\": \"MinMaxScaler, ExtremeRandomTrees\", \"run_properties\": \"copy=True, feature_range=(0, 1\", \"primary_metric\": 0.37344486, \"best_metric\": 0.07184818}, {\"run_id\": \"AutoML_cf491250-efcb-4015-bd49-e5c11cd8fbfe_21\", \"run_number\": 1690843104, \"metric\": null, \"status\": \"Completed\", \"run_type\": \"azureml.scriptrun\", \"training_percent\": \"100\", \"start_time\": \"2023-07-31T22:39:35.181764Z\", \"end_time\": \"2023-07-31T22:40:15.518929Z\", \"created_time\": \"2023-07-31T22:38:24.171247Z\", \"created_time_dt\": \"2023-07-31T22:38:24.171247Z\", \"duration\": \"0:01:51\", \"iteration\": \"21\", \"goal\": \"normalized_root_mean_squared_error_min\", \"run_name\": \"MinMaxScaler, ExtremeRandomTrees\", \"run_properties\": \"copy=True, feature_range=(0, 1\", \"primary_metric\": 0.46838075, \"best_metric\": 0.07184818}, {\"run_id\": \"AutoML_cf491250-efcb-4015-bd49-e5c11cd8fbfe_22\", \"run_number\": 1690843216, \"metric\": null, \"status\": \"Completed\", \"run_type\": \"azureml.scriptrun\", \"training_percent\": \"100\", \"start_time\": \"2023-07-31T22:40:26.736406Z\", \"end_time\": \"2023-07-31T22:42:03.065691Z\", \"created_time\": \"2023-07-31T22:40:16.191199Z\", \"created_time_dt\": \"2023-07-31T22:40:16.191199Z\", \"duration\": \"0:01:46\", \"iteration\": \"22\", \"goal\": \"normalized_root_mean_squared_error_min\", \"run_name\": \"VotingEnsemble\", \"run_properties\": \"estimators=[('6', Pipeline(memory=None, steps=[('prophetmodel', ProphetModel(prophet_param_dict={'uncertainty_samples': 0}, timeseries_param_dict={'time_column_name': 'Date', 'grain_column_names': ['Store'], 'target_column_name': 'Weekly_Sales', 'drop_column_names': [], 'overwrite_columns': True, 'dropna': False, 'transform_dictionary': {'min': '_automl_target_col', 'max': '_automl_target_col', 'mean': '_automl_target_col'}, 'max_horizon': 4, 'origin_time_colname': 'origin', 'country_or_region': None, 'n_cross_validations': 5, 'short_series_handling': True, 'max_cores_per_iteration': 1, 'feature_lags': None, 'target_aggregation_function': None, 'cv_step_size': 4, 'seasonality': 4, 'use_stl': None, 'freq': 'W-FRI', 'short_series_handling_configuration': 'auto', 'target_lags': [0], 'target_rolling_window_size': 0, 'arimax_raw_columns': ['Holiday_Flag', 'Unemployment', 'CPI', 'Fuel_Price', 'Date', 'Store', 'Temperature']}\", \"primary_metric\": 0.05943159, \"best_metric\": 0.05943159}], \"children_metrics\": {\"categories\": [0], \"series\": {\"mean_absolute_percentage_error\": [{\"categories\": [\"0\", \"2\", \"6\", \"8\", \"10\", \"12\", \"15\", \"17\", \"20\", \"21\", \"22\"], \"mode\": \"markers\", \"name\": \"mean_absolute_percentage_error\", \"stepped\": false, \"type\": \"scatter\", \"data\": [6.963261600515824, 7.037999815777835, 4.911967759838622, 7.261007500881979, 59.564188752872994, 59.550204921763545, 59.54934909123689, 59.554362592105136, 34.21487472565302, 51.506443095584075, 4.176242281946832]}, {\"categories\": [\"0\", \"2\", \"6\", \"8\", \"10\", \"12\", \"15\", \"17\", \"20\", \"21\", \"22\"], \"mode\": \"lines\", \"name\": \"mean_absolute_percentage_error_min\", \"stepped\": true, \"type\": \"scatter\", \"data\": [6.963261600515824, 6.963261600515824, 4.911967759838622, 4.911967759838622, 4.911967759838622, 4.911967759838622, 4.911967759838622, 4.911967759838622, 4.911967759838622, 4.911967759838622, 4.176242281946832]}], \"explained_variance\": [{\"categories\": [\"0\", \"2\", \"6\", \"8\", \"10\", \"12\", \"15\", \"17\", \"20\", \"21\", \"22\"], \"mode\": \"markers\", \"name\": \"explained_variance\", \"stepped\": false, \"type\": \"scatter\", \"data\": [0.9738062114631472, 0.9643552833460772, 0.9819277370941893, 0.9647052514835183, 0.14327623362940886, 0.14325053054524664, 0.14324096245824647, 0.14325392211798063, 0.6878419727819034, 0.352187536831707, 0.9883480244278656]}, {\"categories\": [\"0\", \"2\", \"6\", \"8\", \"10\", \"12\", \"15\", \"17\", \"20\", \"21\", \"22\"], \"mode\": \"lines\", \"name\": \"explained_variance_max\", \"stepped\": true, \"type\": \"scatter\", \"data\": [0.9738062114631472, 0.9738062114631472, 0.9819277370941893, 0.9819277370941893, 0.9819277370941893, 0.9819277370941893, 0.9819277370941893, 0.9819277370941893, 0.9819277370941893, 0.9819277370941893, 0.9883480244278656]}], \"root_mean_squared_log_error\": [{\"categories\": [\"0\", \"2\", \"6\", \"8\", \"10\", \"12\", \"15\", \"17\", \"20\", \"21\", \"22\"], \"mode\": \"markers\", \"name\": \"root_mean_squared_log_error\", \"stepped\": false, \"type\": \"scatter\", \"data\": [0.08506203054686282, 0.09265225732999312, 0.06849853979194478, 0.1076132290655947, 0.5626963807973924, 0.5626625553172695, 0.5626648184313212, 0.5626751546221546, 0.3633780457667153, 0.49309476057879176, 0.05512074870889492]}, {\"categories\": [\"0\", \"2\", \"6\", \"8\", \"10\", \"12\", \"15\", \"17\", \"20\", \"21\", \"22\"], \"mode\": \"lines\", \"name\": \"root_mean_squared_log_error_min\", \"stepped\": true, \"type\": \"scatter\", \"data\": [0.08506203054686282, 0.08506203054686282, 0.06849853979194478, 0.06849853979194478, 0.06849853979194478, 0.06849853979194478, 0.06849853979194478, 0.06849853979194478, 0.06849853979194478, 0.06849853979194478, 0.05512074870889492]}], \"r2_score\": [{\"categories\": [\"0\", \"2\", \"6\", \"8\", \"10\", \"12\", \"15\", \"17\", \"20\", \"21\", \"22\"], \"mode\": \"markers\", \"name\": \"r2_score\", \"stepped\": false, \"type\": \"scatter\", \"data\": [0.9595132941591121, 0.9612257475165119, 0.9808208421545919, 0.963048885435523, 0.1281325286748744, 0.12804280880101399, 0.12802347273464829, 0.12806309774861757, 0.6836177764239189, 0.3491030358554495, 0.9871650655281033]}, {\"categories\": [\"0\", \"2\", \"6\", \"8\", \"10\", \"12\", \"15\", \"17\", \"20\", \"21\", \"22\"], \"mode\": \"lines\", \"name\": \"r2_score_max\", \"stepped\": true, \"type\": \"scatter\", \"data\": [0.9595132941591121, 0.9612257475165119, 0.9808208421545919, 0.9808208421545919, 0.9808208421545919, 0.9808208421545919, 0.9808208421545919, 0.9808208421545919, 0.9808208421545919, 0.9808208421545919, 0.9871650655281033]}], \"mean_absolute_error\": [{\"categories\": [\"0\", \"2\", \"6\", \"8\", \"10\", \"12\", \"15\", \"17\", \"20\", \"21\", \"22\"], \"mode\": \"markers\", \"name\": \"mean_absolute_error\", \"stepped\": false, \"type\": \"scatter\", \"data\": [72589.69753333331, 69016.6549174586, 48864.545363912046, 61830.43973611111, 415644.45522432606, 415656.76827111206, 415657.8959853911, 415652.77570915024, 248223.46456983592, 370628.9143613321, 40797.68969088384]}, {\"categories\": [\"0\", \"2\", \"6\", \"8\", \"10\", \"12\", \"15\", \"17\", \"20\", \"21\", \"22\"], \"mode\": \"lines\", \"name\": \"mean_absolute_error_min\", \"stepped\": true, \"type\": \"scatter\", \"data\": [72589.69753333331, 69016.6549174586, 48864.545363912046, 48864.545363912046, 48864.545363912046, 48864.545363912046, 48864.545363912046, 48864.545363912046, 48864.545363912046, 48864.545363912046, 40797.68969088384]}], \"normalized_median_absolute_error\": [{\"categories\": [\"0\", \"2\", \"6\", \"8\", \"10\", \"12\", \"15\", \"17\", \"20\", \"21\", \"22\"], \"mode\": \"markers\", \"name\": \"normalized_median_absolute_error\", \"stepped\": false, \"type\": \"scatter\", \"data\": [0.08056053212081368, 0.0812399132508211, 0.057231537316767736, 0.08844395946439335, 0.47782233343992353, 0.4778574837578537, 0.4778679619156814, 0.47785210955178614, 0.3655326384421559, 0.4617860975866381, 0.048039543643575704]}, {\"categories\": [\"0\", \"2\", \"6\", \"8\", \"10\", \"12\", \"15\", \"17\", \"20\", \"21\", \"22\"], \"mode\": \"lines\", \"name\": \"normalized_median_absolute_error_min\", \"stepped\": true, \"type\": \"scatter\", \"data\": [0.08056053212081368, 0.08056053212081368, 0.057231537316767736, 0.057231537316767736, 0.057231537316767736, 0.057231537316767736, 0.057231537316767736, 0.057231537316767736, 0.057231537316767736, 0.057231537316767736, 0.048039543643575704]}], \"normalized_root_mean_squared_log_error\": [{\"categories\": [\"0\", \"2\", \"6\", \"8\", \"10\", \"12\", \"15\", \"17\", \"20\", \"21\", \"22\"], \"mode\": \"markers\", \"name\": \"normalized_root_mean_squared_log_error\", \"stepped\": false, \"type\": \"scatter\", \"data\": [0.10601192522303896, 0.10683424191842894, 0.0809947318749525, 0.11875888660075433, 0.5420156098528832, 0.5421144843012751, 0.542128053696419, 0.542088721506927, 0.40072902099104013, 0.5122730018063331, 0.06700666359424767]}, {\"categories\": [\"0\", \"2\", \"6\", \"8\", \"10\", \"12\", \"15\", \"17\", \"20\", \"21\", \"22\"], \"mode\": \"lines\", \"name\": \"normalized_root_mean_squared_log_error_min\", \"stepped\": true, \"type\": \"scatter\", \"data\": [0.10601192522303896, 0.10601192522303896, 0.0809947318749525, 0.0809947318749525, 0.0809947318749525, 0.0809947318749525, 0.0809947318749525, 0.0809947318749525, 0.0809947318749525, 0.0809947318749525, 0.06700666359424767]}], \"normalized_mean_absolute_error\": [{\"categories\": [\"0\", \"2\", \"6\", \"8\", \"10\", \"12\", \"15\", \"17\", \"20\", \"21\", \"22\"], \"mode\": \"markers\", \"name\": \"normalized_mean_absolute_error\", \"stepped\": false, \"type\": \"scatter\", \"data\": [0.08442130426127166, 0.08587336995830709, 0.061489878816350596, 0.0939831135987691, 0.4808260393227216, 0.4808624840067293, 0.48087319638905346, 0.48085640394580764, 0.36776399858447195, 0.4638172467724046, 0.0514832799184612]}, {\"categories\": [\"0\", \"2\", \"6\", \"8\", \"10\", \"12\", \"15\", \"17\", \"20\", \"21\", \"22\"], \"mode\": \"lines\", \"name\": \"normalized_mean_absolute_error_min\", \"stepped\": true, \"type\": \"scatter\", \"data\": [0.08442130426127166, 0.08442130426127166, 0.061489878816350596, 0.061489878816350596, 0.061489878816350596, 0.061489878816350596, 0.061489878816350596, 0.061489878816350596, 0.061489878816350596, 0.061489878816350596, 0.0514832799184612]}], \"normalized_root_mean_squared_error\": [{\"categories\": [\"0\", \"2\", \"6\", \"8\", \"10\", \"12\", \"15\", \"17\", \"20\", \"21\", \"22\"], \"mode\": \"markers\", \"name\": \"normalized_root_mean_squared_error\", \"stepped\": false, \"type\": \"scatter\", \"data\": [0.09446223239419467, 0.09449536304910533, 0.07184817813729696, 0.10598796838258509, 0.48512626774047946, 0.48516861790245686, 0.48518178334140066, 0.48516185134057066, 0.3734448642710751, 0.46838074669061136, 0.05943158667421881]}, {\"categories\": [\"0\", \"2\", \"6\", \"8\", \"10\", \"12\", \"15\", \"17\", \"20\", \"21\", \"22\"], \"mode\": \"lines\", \"name\": \"normalized_root_mean_squared_error_min\", \"stepped\": true, \"type\": \"scatter\", \"data\": [0.09446223239419467, 0.09446223239419467, 0.07184817813729696, 0.07184817813729696, 0.07184817813729696, 0.07184817813729696, 0.07184817813729696, 0.07184817813729696, 0.07184817813729696, 0.07184817813729696, 0.05943158667421881]}], \"median_absolute_error\": [{\"categories\": [\"0\", \"2\", \"6\", \"8\", \"10\", \"12\", \"15\", \"17\", \"20\", \"21\", \"22\"], \"mode\": \"markers\", \"name\": \"median_absolute_error\", \"stepped\": false, \"type\": \"scatter\", \"data\": [51854.261, 47248.62077440838, 30690.22007132013, 43223.970875000006, 382848.4838767997, 382750.4785187193, 382730.18837099685, 382771.04549693, 227209.8111879775, 357793.6706453926, 28670.01742318944]}, {\"categories\": [\"0\", \"2\", \"6\", \"8\", \"10\", \"12\", \"15\", \"17\", \"20\", \"21\", \"22\"], \"mode\": \"lines\", \"name\": \"median_absolute_error_min\", \"stepped\": true, \"type\": \"scatter\", \"data\": [51854.261, 47248.62077440838, 30690.22007132013, 30690.22007132013, 30690.22007132013, 30690.22007132013, 30690.22007132013, 30690.22007132013, 30690.22007132013, 30690.22007132013, 28670.01742318944]}], \"spearman_correlation\": [{\"categories\": [\"0\", \"2\", \"6\", \"8\", \"10\", \"12\", \"15\", \"17\", \"20\", \"21\", \"22\"], \"mode\": \"markers\", \"name\": \"spearman_correlation\", \"stepped\": false, \"type\": \"scatter\", \"data\": [0.9885523730508592, 0.9860233144337547, 0.9900700638908608, 0.9838883916170251, 0.33997180982952147, 0.34012572404498087, 0.340119551014949, 0.3400882743294546, 0.8879089512253, 0.6313966106485313, 0.9944430383653817]}, {\"categories\": [\"0\", \"2\", \"6\", \"8\", \"10\", \"12\", \"15\", \"17\", \"20\", \"21\", \"22\"], \"mode\": \"lines\", \"name\": \"spearman_correlation_max\", \"stepped\": true, \"type\": \"scatter\", \"data\": [0.9885523730508592, 0.9885523730508592, 0.9900700638908608, 0.9900700638908608, 0.9900700638908608, 0.9900700638908608, 0.9900700638908608, 0.9900700638908608, 0.9900700638908608, 0.9900700638908608, 0.9944430383653817]}], \"root_mean_squared_error\": [{\"categories\": [\"0\", \"2\", \"6\", \"8\", \"10\", \"12\", \"15\", \"17\", \"20\", \"21\", \"22\"], \"mode\": \"markers\", \"name\": \"root_mean_squared_error\", \"stepped\": false, \"type\": \"scatter\", \"data\": [100934.12493017114, 103761.11672397911, 72948.356327564, 95838.39145245198, 494354.800017794, 494381.1601168018, 494386.62017606234, 494375.10067469825, 297566.7155034336, 426889.06180817785, 59726.31786033828]}, {\"categories\": [\"0\", \"2\", \"6\", \"8\", \"10\", \"12\", \"15\", \"17\", \"20\", \"21\", \"22\"], \"mode\": \"lines\", \"name\": \"root_mean_squared_error_min\", \"stepped\": true, \"type\": \"scatter\", \"data\": [100934.12493017114, 100934.12493017114, 72948.356327564, 72948.356327564, 72948.356327564, 72948.356327564, 72948.356327564, 72948.356327564, 72948.356327564, 72948.356327564, 59726.31786033828]}]}, \"metricName\": null, \"primaryMetricName\": \"normalized_root_mean_squared_error\", \"showLegend\": false}, \"run_metrics\": [{\"name\": \"experiment_status\", \"run_id\": \"AutoML_cf491250-efcb-4015-bd49-e5c11cd8fbfe\", \"categories\": [0, 1, 2, 3, 4, 5, 6, 7, 8, 9, 10, 11, 12, 13, 14, 15, 16, 17, 18, 19, 20, 21], \"series\": [{\"data\": [\"DatasetFeaturization\", \"DatasetFeaturizationCompleted\", \"DatasetCrossValidationSplit\", \"DatasetFeaturization\", \"DatasetFeaturizationCompleted\", \"DatasetFeaturization\", \"DatasetFeaturizationCompleted\", \"DatasetFeaturization\", \"DatasetFeaturizationCompleted\", \"DatasetFeaturization\", \"DatasetFeaturizationCompleted\", \"DatasetFeaturization\", \"DatasetFeaturizationCompleted\", \"ModelSelection\", \"BestRunExplainModel\", \"ModelExplanationDataSetSetup\", \"PickSurrogateModel\", \"EngineeredFeatureExplanations\", \"EngineeredFeatureExplanations\", \"RawFeaturesExplanations\", \"RawFeaturesExplanations\", \"BestRunExplainModel\"]}]}, {\"name\": \"experiment_status_description\", \"run_id\": \"AutoML_cf491250-efcb-4015-bd49-e5c11cd8fbfe\", \"categories\": [0, 1, 2, 3, 4, 5, 6, 7, 8, 9, 10, 11, 12, 13, 14, 15, 16, 17, 18, 19, 20, 21], \"series\": [{\"data\": [\"Beginning to featurize the dataset.\", \"Completed featurizing the dataset.\", \"Generating individually featurized CV splits.\", \"Beginning to featurize the CV split.\", \"Completed featurizing the CV split.\", \"Beginning to featurize the CV split.\", \"Completed featurizing the CV split.\", \"Beginning to featurize the CV split.\", \"Completed featurizing the CV split.\", \"Beginning to featurize the CV split.\", \"Completed featurizing the CV split.\", \"Beginning to featurize the CV split.\", \"Completed featurizing the CV split.\", \"Beginning model selection.\", \"Best run model explanations started\", \"Model explanations data setup completed\", \"Choosing LightGBM as the surrogate model for explanations\", \"Computation of engineered features started\", \"Computation of engineered features completed\", \"Computation of raw features started\", \"Computation of raw features completed\", \"Best run model explanations completed\"]}]}, {\"name\": \"normalized_mean_absolute_error\", \"run_id\": \"AutoML_cf491250-efcb-4015-bd49-e5c11cd8fbfe\", \"categories\": [0], \"series\": [{\"data\": [0.0514832799184612]}]}, {\"name\": \"normalized_root_mean_squared_log_error\", \"run_id\": \"AutoML_cf491250-efcb-4015-bd49-e5c11cd8fbfe\", \"categories\": [0], \"series\": [{\"data\": [0.06700666359424767]}]}, {\"name\": \"explained_variance\", \"run_id\": \"AutoML_cf491250-efcb-4015-bd49-e5c11cd8fbfe\", \"categories\": [0], \"series\": [{\"data\": [0.9883480244278656]}]}, {\"name\": \"r2_score\", \"run_id\": \"AutoML_cf491250-efcb-4015-bd49-e5c11cd8fbfe\", \"categories\": [0], \"series\": [{\"data\": [0.9871650655281033]}]}, {\"name\": \"mean_absolute_error\", \"run_id\": \"AutoML_cf491250-efcb-4015-bd49-e5c11cd8fbfe\", \"categories\": [0], \"series\": [{\"data\": [40797.68969088384]}]}, {\"name\": \"mean_absolute_percentage_error\", \"run_id\": \"AutoML_cf491250-efcb-4015-bd49-e5c11cd8fbfe\", \"categories\": [0], \"series\": [{\"data\": [4.176242281946832]}]}, {\"name\": \"median_absolute_error\", \"run_id\": \"AutoML_cf491250-efcb-4015-bd49-e5c11cd8fbfe\", \"categories\": [0], \"series\": [{\"data\": [28670.01742318944]}]}, {\"name\": \"root_mean_squared_error\", \"run_id\": \"AutoML_cf491250-efcb-4015-bd49-e5c11cd8fbfe\", \"categories\": [0], \"series\": [{\"data\": [59726.31786033828]}]}, {\"name\": \"normalized_root_mean_squared_error\", \"run_id\": \"AutoML_cf491250-efcb-4015-bd49-e5c11cd8fbfe\", \"categories\": [0], \"series\": [{\"data\": [0.05943158667421881]}]}, {\"name\": \"normalized_median_absolute_error\", \"run_id\": \"AutoML_cf491250-efcb-4015-bd49-e5c11cd8fbfe\", \"categories\": [0], \"series\": [{\"data\": [0.048039543643575704]}]}, {\"name\": \"root_mean_squared_log_error\", \"run_id\": \"AutoML_cf491250-efcb-4015-bd49-e5c11cd8fbfe\", \"categories\": [0], \"series\": [{\"data\": [0.05512074870889492]}]}, {\"name\": \"spearman_correlation\", \"run_id\": \"AutoML_cf491250-efcb-4015-bd49-e5c11cd8fbfe\", \"categories\": [0], \"series\": [{\"data\": [0.9944430383653817]}]}], \"run_logs\": \"\\nRun is completed.\", \"graph\": {}, \"widget_settings\": {\"childWidgetDisplay\": \"popup\", \"send_telemetry\": false, \"log_level\": \"INFO\", \"sdk_version\": \"1.51.0\"}, \"loading\": false}"
          },
          "metadata": {}
        },
        {
          "output_type": "stream",
          "name": "stderr",
          "text": "WARNING:Comm:No such comm: 34782f3b9aa349129cbe4d3f3ee646f6\nWARNING:Comm:No such comm: 34782f3b9aa349129cbe4d3f3ee646f6\nWARNING:Comm:No such comm: 34782f3b9aa349129cbe4d3f3ee646f6\n"
        }
      ],
      "execution_count": 13,
      "metadata": {
        "jupyter": {
          "source_hidden": false,
          "outputs_hidden": false
        },
        "nteract": {
          "transient": {
            "deleting": false
          }
        },
        "gather": {
          "logged": 1690841255185
        }
      }
    },
    {
      "cell_type": "markdown",
      "source": [
        "## Best Model\n",
        "\n",
        "TODO: In the cell below, get the best model from the automl experiments and display all the properties of the model.\n",
        "\n"
      ],
      "metadata": {}
    },
    {
      "cell_type": "code",
      "source": [
        "best_model = automl_run.get_best_child()\n",
        "best_model"
      ],
      "outputs": [
        {
          "output_type": "execute_result",
          "execution_count": 15,
          "data": {
            "text/plain": "Run(Experiment: capstone-project,\nId: AutoML_cf491250-efcb-4015-bd49-e5c11cd8fbfe_22,\nType: azureml.scriptrun,\nStatus: Completed)",
            "text/html": "<table style=\"width:100%\"><tr><th>Experiment</th><th>Id</th><th>Type</th><th>Status</th><th>Details Page</th><th>Docs Page</th></tr><tr><td>capstone-project</td><td>AutoML_cf491250-efcb-4015-bd49-e5c11cd8fbfe_22</td><td>azureml.scriptrun</td><td>Completed</td><td><a href=\"https://ml.azure.com/runs/AutoML_cf491250-efcb-4015-bd49-e5c11cd8fbfe_22?wsid=/subscriptions/d2706c67-acfc-4bd3-9067-3ff6ac190bc9/resourcegroups/capstone-project/workspaces/capstone-project&amp;tid=9a8d38e4-12e5-43af-8de6-e9f9c0e696da\" target=\"_blank\" rel=\"noopener\">Link to Azure Machine Learning studio</a></td><td><a href=\"https://docs.microsoft.com/en-us/python/api/azureml-core/azureml.core.run.Run?view=azure-ml-py\" target=\"_blank\" rel=\"noopener\">Link to Documentation</a></td></tr></table>"
          },
          "metadata": {}
        }
      ],
      "execution_count": 15,
      "metadata": {
        "gather": {
          "logged": 1690845220007
        },
        "jupyter": {
          "outputs_hidden": false,
          "source_hidden": false
        },
        "nteract": {
          "transient": {
            "deleting": false
          }
        }
      }
    },
    {
      "cell_type": "code",
      "source": [
        "# getting model properties\n",
        "best_model.get_properties()"
      ],
      "outputs": [
        {
          "output_type": "execute_result",
          "execution_count": 16,
          "data": {
            "text/plain": "{'runTemplate': 'automl_child',\n 'pipeline_id': '__AutoML_Ensemble__',\n 'pipeline_spec': '{\"pipeline_id\":\"__AutoML_Ensemble__\",\"objects\":[{\"module\":\"azureml.train.automl.ensemble\",\"class_name\":\"Ensemble\",\"spec_class\":\"sklearn\",\"param_args\":[],\"param_kwargs\":{\"automl_settings\":\"{\\'task_type\\':\\'regression\\',\\'primary_metric\\':\\'normalized_root_mean_squared_error\\',\\'verbosity\\':20,\\'ensemble_iterations\\':15,\\'is_timeseries\\':True,\\'name\\':\\'capstone-project\\',\\'compute_target\\':\\'capstone-cluster\\',\\'subscription_id\\':\\'d2706c67-acfc-4bd3-9067-3ff6ac190bc9\\',\\'region\\':\\'brazilsouth\\',\\'time_column_name\\':\\'Date\\',\\'grain_column_names\\':[\\'Store\\'],\\'max_horizon\\':4,\\'drop_column_names\\':[],\\'spark_service\\':None}\",\"ensemble_run_id\":\"AutoML_cf491250-efcb-4015-bd49-e5c11cd8fbfe_22\",\"experiment_name\":\"capstone-project\",\"workspace_name\":\"capstone-project\",\"subscription_id\":\"d2706c67-acfc-4bd3-9067-3ff6ac190bc9\",\"resource_group_name\":\"capstone-project\"}}]}',\n 'training_percent': '100',\n 'predicted_cost': None,\n 'iteration': '22',\n '_aml_system_scenario_identification': 'Remote.Child',\n '_azureml.ComputeTargetType': 'amlctrain',\n 'ContentSnapshotId': '9d0e4914-a6a2-4051-b74a-5edb5776923d',\n 'ProcessInfoFile': 'azureml-logs/process_info.json',\n 'ProcessStatusFile': 'azureml-logs/process_status.json',\n 'run_preprocessor': '',\n 'run_algorithm': 'VotingEnsemble',\n 'ensembled_iterations': '[6, 8, 1, 7]',\n 'ensembled_algorithms': \"['ProphetModel', 'XGBoostRegressor', 'SeasonalNaive', 'LightGBM']\",\n 'ensembled_run_ids': \"['AutoML_cf491250-efcb-4015-bd49-e5c11cd8fbfe_6', 'AutoML_cf491250-efcb-4015-bd49-e5c11cd8fbfe_8', 'AutoML_cf491250-efcb-4015-bd49-e5c11cd8fbfe_1', 'AutoML_cf491250-efcb-4015-bd49-e5c11cd8fbfe_7']\",\n 'ensemble_weights': '[0.5, 0.14285714285714285, 0.2857142857142857, 0.07142857142857142]',\n 'best_individual_pipeline_score': '0.07184817813729696',\n 'best_individual_iteration': '6',\n 'model_output_path': 'outputs/model.pkl',\n 'conda_env_data_location': 'aml://artifact/ExperimentRun/dcid.AutoML_cf491250-efcb-4015-bd49-e5c11cd8fbfe_22/outputs/conda_env_v_1_0_0.yml',\n 'model_data_location': 'aml://artifact/ExperimentRun/dcid.AutoML_cf491250-efcb-4015-bd49-e5c11cd8fbfe_22/outputs/model.pkl',\n 'model_size_on_disk': '1305315',\n 'scoring_data_location': 'aml://artifact/ExperimentRun/dcid.AutoML_cf491250-efcb-4015-bd49-e5c11cd8fbfe_22/outputs/scoring_file_v_1_0_0.py',\n 'scoring_data_location_v2': 'aml://artifact/ExperimentRun/dcid.AutoML_cf491250-efcb-4015-bd49-e5c11cd8fbfe_22/outputs/scoring_file_v_2_0_0.py',\n 'scoring_data_location_pbi': 'aml://artifact/ExperimentRun/dcid.AutoML_cf491250-efcb-4015-bd49-e5c11cd8fbfe_22/outputs/scoring_file_pbi_v_1_0_0.py',\n 'model_exp_support': 'True',\n 'pipeline_graph_version': '1.0.0',\n 'model_name': 'AutoMLcf491250e22',\n 'score': '0.05943158667421881',\n 'score_table': 'NaN',\n 'run_properties': \"estimators=[('6', Pipeline(memory=None, steps=[('prophetmodel', ProphetModel(prophet_param_dict={'uncertainty_samples': 0}, timeseries_param_dict={'time_column_name': 'Date', 'grain_column_names': ['Store'], 'target_column_name': 'Weekly_Sales', 'drop_column_names': [], 'overwrite_columns': True, 'dropna': False, 'transform_dictionary': {'min': '_automl_target_col', 'max': '_automl_target_col', 'mean': '_automl_target_col'}, 'max_horizon': 4, 'origin_time_colname': 'origin', 'country_or_region': None, 'n_cross_validations': 5, 'short_series_handling': True, 'max_cores_per_iteration': 1, 'feature_lags': None, 'target_aggregation_function': None, 'cv_step_size': 4, 'seasonality': 4, 'use_stl': None, 'freq': 'W-FRI', 'short_series_handling_configuration': 'auto', 'target_lags': [0], 'target_rolling_window_size': 0, 'arimax_raw_columns': ['Holiday_Flag', 'Unemployment', 'CPI', 'Fuel_Price', 'Date', 'Store', 'Temperature']}\",\n 'pipeline_script': '{\"pipeline_id\":\"__AutoML_Ensemble__\",\"objects\":[{\"module\":\"azureml.train.automl.ensemble\",\"class_name\":\"Ensemble\",\"spec_class\":\"sklearn\",\"param_args\":[],\"param_kwargs\":{\"automl_settings\":\"{\\'task_type\\':\\'regression\\',\\'primary_metric\\':\\'normalized_root_mean_squared_error\\',\\'verbosity\\':20,\\'ensemble_iterations\\':15,\\'is_timeseries\\':True,\\'name\\':\\'capstone-project\\',\\'compute_target\\':\\'capstone-cluster\\',\\'subscription_id\\':\\'d2706c67-acfc-4bd3-9067-3ff6ac190bc9\\',\\'region\\':\\'brazilsouth\\',\\'time_column_name\\':\\'Date\\',\\'grain_column_names\\':[\\'Store\\'],\\'max_horizon\\':4,\\'drop_column_names\\':[],\\'spark_service\\':None}\",\"ensemble_run_id\":\"AutoML_cf491250-efcb-4015-bd49-e5c11cd8fbfe_22\",\"experiment_name\":\"capstone-project\",\"workspace_name\":\"capstone-project\",\"subscription_id\":\"d2706c67-acfc-4bd3-9067-3ff6ac190bc9\",\"resource_group_name\":\"capstone-project\"}}]}',\n 'training_type': 'MeanCrossValidation',\n 'fit_time': '39',\n 'goal': 'normalized_root_mean_squared_error_min',\n 'primary_metric': 'normalized_root_mean_squared_error',\n 'errors': '{}',\n 'onnx_model_resource': '{}',\n 'dependencies_versions': '{\"azureml-dataprep-native\": \"38.0.0\", \"azureml-dataprep\": \"4.11.4\", \"azureml-dataprep-rslex\": \"2.18.4\", \"azureml-automl-runtime\": \"1.52.0.post1\", \"azureml-automl-core\": \"1.52.0.post1\", \"azureml-train-core\": \"1.52.0\", \"azureml-train-automl-runtime\": \"1.52.0\", \"azureml-train-automl-client\": \"1.52.0\", \"azureml-responsibleai\": \"1.52.0\", \"azureml-core\": \"1.52.0\", \"azureml-defaults\": \"1.52.0\", \"azureml-training-tabular\": \"1.52.0\", \"azureml-train-restclients-hyperdrive\": \"1.52.0\", \"azureml-pipeline-core\": \"1.52.0\", \"azureml-dataset-runtime\": \"1.52.0\", \"azureml-interpret\": \"1.52.0\", \"azureml-telemetry\": \"1.52.0\", \"azureml-mlflow\": \"1.52.0\", \"azureml-inference-server-http\": \"0.8.4\"}',\n 'num_cores': '2',\n 'num_logical_cores': '2',\n 'peak_memory_usage': '1502480',\n 'vm_configuration': 'x86_64',\n 'core_hours': '0.018617610277777783',\n 'feature_skus': 'automatedml_sdk_guardrails'}"
          },
          "metadata": {}
        }
      ],
      "execution_count": 16,
      "metadata": {
        "jupyter": {
          "source_hidden": false,
          "outputs_hidden": false
        },
        "nteract": {
          "transient": {
            "deleting": false
          }
        },
        "gather": {
          "logged": 1690845361605
        }
      }
    },
    {
      "cell_type": "code",
      "source": [
        "best_model.get_metrics()"
      ],
      "outputs": [
        {
          "output_type": "execute_result",
          "execution_count": 17,
          "data": {
            "text/plain": "{'normalized_root_mean_squared_log_error': 0.06700666359424767,\n 'explained_variance': 0.9883480244278656,\n 'normalized_root_mean_squared_error': 0.05943158667421881,\n 'spearman_correlation': 0.9944430383653817,\n 'median_absolute_error': 28670.01742318944,\n 'normalized_mean_absolute_error': 0.0514832799184612,\n 'root_mean_squared_log_error': 0.05512074870889492,\n 'root_mean_squared_error': 59726.31786033828,\n 'mean_absolute_error': 40797.68969088384,\n 'mean_absolute_percentage_error': 4.176242281946832,\n 'normalized_median_absolute_error': 0.048039543643575704,\n 'r2_score': 0.9871650655281033,\n 'residuals': 'aml://artifactId/ExperimentRun/dcid.AutoML_cf491250-efcb-4015-bd49-e5c11cd8fbfe_22/residuals',\n 'predicted_true': 'aml://artifactId/ExperimentRun/dcid.AutoML_cf491250-efcb-4015-bd49-e5c11cd8fbfe_22/predicted_true',\n 'forecast_table': 'aml://artifactId/ExperimentRun/dcid.AutoML_cf491250-efcb-4015-bd49-e5c11cd8fbfe_22/forecast_table'}"
          },
          "metadata": {}
        }
      ],
      "execution_count": 17,
      "metadata": {
        "jupyter": {
          "source_hidden": false,
          "outputs_hidden": false
        },
        "nteract": {
          "transient": {
            "deleting": false
          }
        },
        "gather": {
          "logged": 1690845526520
        }
      }
    },
    {
      "cell_type": "markdown",
      "source": [
        "### Save the best model"
      ],
      "metadata": {
        "nteract": {
          "transient": {
            "deleting": false
          }
        }
      }
    },
    {
      "cell_type": "code",
      "source": [
        "model_path = best_model.get_properties()['model_output_path']"
      ],
      "outputs": [],
      "execution_count": 24,
      "metadata": {
        "jupyter": {
          "source_hidden": false,
          "outputs_hidden": false
        },
        "nteract": {
          "transient": {
            "deleting": false
          }
        },
        "gather": {
          "logged": 1690846365475
        }
      }
    },
    {
      "cell_type": "code",
      "source": [
        "# Downloading the best model into the workspace\n",
        "best_model.download_file('outputs/model.pkl')\n",
        "\n",
        "# registering best model in the workspace\n",
        "model = best_model.register_model(model_name = 'capstone_automl_best_model', model_path = model_path)\n",
        "print(f\"best model run id: {best_model.id}\")\n",
        "print(f\"registered model name: {model.name}, id: {model.id}, version: {model.version}\")"
      ],
      "outputs": [
        {
          "output_type": "stream",
          "name": "stdout",
          "text": "best model run id: AutoML_cf491250-efcb-4015-bd49-e5c11cd8fbfe_22\nregistered model name: capstone_automl_best_model, id: capstone_automl_best_model:2, version: 2\n"
        }
      ],
      "execution_count": 31,
      "metadata": {
        "gather": {
          "logged": 1690847462476
        },
        "jupyter": {
          "outputs_hidden": false,
          "source_hidden": false
        },
        "nteract": {
          "transient": {
            "deleting": false
          }
        }
      }
    },
    {
      "cell_type": "markdown",
      "source": [
        "## Model Deployment\n",
        "\n",
        "Remember you have to deploy only one of the two models you trained but you still need to register both the models. Perform the steps in the rest of this notebook only if you wish to deploy this model.\n",
        "\n",
        "TODO: In the cell below, register the model, create an inference config and deploy the model as a web service."
      ],
      "metadata": {}
    },
    {
      "cell_type": "code",
      "source": [],
      "outputs": [],
      "execution_count": null,
      "metadata": {
        "gather": {
          "logged": 1598431435189
        },
        "jupyter": {
          "outputs_hidden": false,
          "source_hidden": false
        },
        "nteract": {
          "transient": {
            "deleting": false
          }
        }
      }
    },
    {
      "cell_type": "markdown",
      "source": [
        "TODO: In the cell below, send a request to the web service you deployed to test it."
      ],
      "metadata": {
        "collapsed": true,
        "gather": {
          "logged": 1598431657736
        },
        "jupyter": {
          "outputs_hidden": false,
          "source_hidden": false
        },
        "nteract": {
          "transient": {
            "deleting": false
          }
        }
      }
    },
    {
      "cell_type": "code",
      "source": [],
      "outputs": [],
      "execution_count": null,
      "metadata": {
        "gather": {
          "logged": 1598432707604
        },
        "jupyter": {
          "outputs_hidden": false,
          "source_hidden": false
        },
        "nteract": {
          "transient": {
            "deleting": false
          }
        }
      }
    },
    {
      "cell_type": "markdown",
      "source": [
        "TODO: In the cell below, print the logs of the web service and delete the service"
      ],
      "metadata": {
        "collapsed": true,
        "gather": {
          "logged": 1598432765711
        },
        "jupyter": {
          "outputs_hidden": false,
          "source_hidden": false
        },
        "nteract": {
          "transient": {
            "deleting": false
          }
        }
      }
    },
    {
      "cell_type": "code",
      "source": [],
      "outputs": [],
      "execution_count": null,
      "metadata": {
        "jupyter": {
          "outputs_hidden": false,
          "source_hidden": false
        },
        "nteract": {
          "transient": {
            "deleting": false
          }
        }
      }
    },
    {
      "cell_type": "markdown",
      "source": [
        "**Submission Checklist**\n",
        "- I have registered the model.\n",
        "- I have deployed the model with the best accuracy as a webservice.\n",
        "- I have tested the webservice by sending a request to the model endpoint.\n",
        "- I have deleted the webservice and shutdown all the computes that I have used.\n",
        "- I have taken a screenshot showing the model endpoint as active.\n",
        "- The project includes a file containing the environment details.\n"
      ],
      "metadata": {}
    },
    {
      "cell_type": "markdown",
      "source": [],
      "metadata": {}
    }
  ],
  "metadata": {
    "kernel_info": {
      "name": "python38-azureml"
    },
    "kernelspec": {
      "name": "python38-azureml",
      "language": "python",
      "display_name": "Python 3.8 - AzureML"
    },
    "language_info": {
      "name": "python",
      "version": "3.8.5",
      "mimetype": "text/x-python",
      "codemirror_mode": {
        "name": "ipython",
        "version": 3
      },
      "pygments_lexer": "ipython3",
      "nbconvert_exporter": "python",
      "file_extension": ".py"
    },
    "nteract": {
      "version": "nteract-front-end@1.0.0"
    },
    "microsoft": {
      "host": {
        "AzureML": {
          "notebookHasBeenCompleted": true
        }
      },
      "ms_spell_check": {
        "ms_spell_check_language": "en"
      }
    }
  },
  "nbformat": 4,
  "nbformat_minor": 2
}