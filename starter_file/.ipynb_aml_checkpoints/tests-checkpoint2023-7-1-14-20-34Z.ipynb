{
  "cells": [
    {
      "cell_type": "code",
      "source": [
        "from azureml.core import Workspace, Dataset, Datastore\n",
        "import pandas as pd\n",
        "import logging\n",
        "\n",
        "\n",
        "def get_data():\n",
        "    subscription_id = 'd2706c67-acfc-4bd3-9067-3ff6ac190bc9'\n",
        "    resource_group = 'capstone-project'\n",
        "    workspace_name = 'capstone-project'\n",
        "\n",
        "    workspace = Workspace(subscription_id, resource_group, workspace_name)\n",
        "\n",
        "    datastore = Datastore.get(workspace, \"workspaceworkingdirectory\")\n",
        "    dataset = Dataset.Tabular.from_delimited_files(path=(datastore, 'Users/hualcosa/nd00333-capstone/data/Walmart Data Analysis and Forcasting.csv'))\n",
        "    df = dataset.to_pandas_dataframe() \n",
        "    return df"
      ],
      "outputs": [],
      "execution_count": 59,
      "metadata": {
        "gather": {
          "logged": 1690898943154
        }
      }
    },
    {
      "cell_type": "code",
      "source": [
        "def process_data(df):\n",
        "    '''\n",
        "    This function formats the dataframe, adding past 8 weeks of sales as lagged features\n",
        "    and 4 weeks of future sales as the label column.\n",
        "\n",
        "    Return:\n",
        "    X. Training data with features + lagged sales\n",
        "    y. vector with the next 4 weeks of sales\n",
        "    '''\n",
        "    \n",
        "    df_with_windows = []\n",
        "    for store_num in df.Store.unique():\n",
        "        store_df = df[df.Store == store_num].copy()\n",
        "        # making lag features\n",
        "        for i in range(1, 9):\n",
        "            store_df[f'Weekly_Sales_t-{i}'] = store_df['Weekly_Sales'].shift(i)\n",
        "        # making future_time_steps\n",
        "        for i in range(1,4):\n",
        "            store_df[f'Weekly_Sales_t+{i}'] = store_df['Weekly_Sales'].shift(-i)\n",
        "\n",
        "        df_with_windows.append(store_df)\n",
        "\n",
        "    df_with_windows = pd.concat(df_with_windows).dropna()\n",
        "    # renaming first future value, to follow the same pattern as the other columns\n",
        "    df_with_windows.rename(columns={\"Weekly_Sales\":\"Weekly_Sales_t+0\"}, inplace=True)\n",
        "    df_with_windows = df_with_windows[['Store', 'Date', 'Holiday_Flag', 'Temperature',\n",
        "                                        'Fuel_Price', 'CPI', 'Unemployment', 'Weekly_Sales_t-1',\n",
        "                                        'Weekly_Sales_t-2', 'Weekly_Sales_t-3', 'Weekly_Sales_t-4',\n",
        "                                        'Weekly_Sales_t-5', 'Weekly_Sales_t-6', 'Weekly_Sales_t-7',\n",
        "                                        'Weekly_Sales_t-8', 'Weekly_Sales_t+0','Weekly_Sales_t+1', 'Weekly_Sales_t+2',\n",
        "                                        'Weekly_Sales_t+3']]\n",
        "\n",
        "    # future columns filter\n",
        "    ftr = df_with_windows.columns.str.match(r'.+t\\+\\d')\n",
        "    # making label vector\n",
        "    y = df_with_windows.loc[:, ftr].apply(lambda row: list(row), axis=1)\n",
        "    df_with_windows = df_with_windows.loc[:, ~ftr]\n",
        "    # making training data\n",
        "    X = df_with_windows.values\n",
        "\n",
        "    return X, y\n"
      ],
      "outputs": [],
      "execution_count": 63,
      "metadata": {
        "jupyter": {
          "source_hidden": false,
          "outputs_hidden": false
        },
        "nteract": {
          "transient": {
            "deleting": false
          }
        },
        "gather": {
          "logged": 1690899433333
        }
      }
    },
    {
      "cell_type": "code",
      "source": [],
      "outputs": [],
      "execution_count": 48,
      "metadata": {
        "jupyter": {
          "source_hidden": false,
          "outputs_hidden": false
        },
        "nteract": {
          "transient": {
            "deleting": false
          }
        },
        "gather": {
          "logged": 1690898359362
        }
      }
    },
    {
      "cell_type": "code",
      "source": [
        "y"
      ],
      "outputs": [
        {
          "output_type": "execute_result",
          "execution_count": 50,
          "data": {
            "text/plain": "8       [1594968.28, 1545418.53, 1466058.28, 1391256.12]\n9       [1545418.53, 1466058.28, 1391256.12, 1425100.71]\n10      [1466058.28, 1391256.12, 1425100.71, 1603955.12]\n11       [1391256.12, 1425100.71, 1603955.12, 1494251.5]\n12       [1425100.71, 1603955.12, 1494251.5, 1399662.07]\n                              ...                       \n6427         [766512.66, 702238.27, 723086.2, 713173.95]\n6428         [702238.27, 723086.2, 713173.95, 733455.07]\n6429         [723086.2, 713173.95, 733455.07, 734464.36]\n6430        [713173.95, 733455.07, 734464.36, 718125.53]\n6431        [733455.07, 734464.36, 718125.53, 760281.43]\nLength: 5940, dtype: object"
          },
          "metadata": {}
        }
      ],
      "execution_count": 50,
      "metadata": {
        "jupyter": {
          "source_hidden": false,
          "outputs_hidden": false
        },
        "nteract": {
          "transient": {
            "deleting": false
          }
        },
        "gather": {
          "logged": 1690898371820
        }
      }
    },
    {
      "cell_type": "code",
      "source": [
        "def main():\n",
        "    logging.basicConfig(\n",
        "        level=logging.INFO,\n",
        "        format=\"%(name)s - %(asctime)s - %(levelname)s - %(message)s\",\n",
        "        datefmt=\"%d-%b-%y %H:%M:%S\",\n",
        "    )\n",
        "\n",
        "    logging.info('Getting data...')\n",
        "    df = get_data()\n",
        "    logging.info('formatting data...')\n",
        "    X, y = process_data(df)\n",
        "    print(f\"X shape: {X.shape}\")\n",
        "    print(f\"y shape: {y.shape}\")\n",
        "    # logging.info('training model...')"
      ],
      "outputs": [],
      "execution_count": 64,
      "metadata": {
        "jupyter": {
          "source_hidden": false,
          "outputs_hidden": false
        },
        "nteract": {
          "transient": {
            "deleting": false
          }
        },
        "gather": {
          "logged": 1690899557066
        }
      }
    },
    {
      "cell_type": "code",
      "source": [
        "if __name__ == '__main__':\n",
        "    main()"
      ],
      "outputs": [
        {
          "output_type": "stream",
          "name": "stdout",
          "text": "X shape: (5940, 15)\ny shape: (5940,)\n"
        }
      ],
      "execution_count": 65,
      "metadata": {
        "jupyter": {
          "source_hidden": false,
          "outputs_hidden": false
        },
        "nteract": {
          "transient": {
            "deleting": false
          }
        },
        "gather": {
          "logged": 1690899562446
        }
      }
    },
    {
      "cell_type": "code",
      "source": [
        "main()"
      ],
      "outputs": [],
      "execution_count": 58,
      "metadata": {
        "jupyter": {
          "source_hidden": false,
          "outputs_hidden": false
        },
        "nteract": {
          "transient": {
            "deleting": false
          }
        },
        "gather": {
          "logged": 1690898746060
        }
      }
    },
    {
      "cell_type": "code",
      "source": [
        "df.head()"
      ],
      "outputs": [
        {
          "output_type": "execute_result",
          "execution_count": 56,
          "data": {
            "text/plain": "   Store       Date  Weekly_Sales  Holiday_Flag  Temperature  Fuel_Price  \\\n0      1 2010-02-05    1643690.90             0        42.31       2.572   \n1      1 2010-02-12    1641957.44             1        38.51       2.548   \n2      1 2010-02-19    1611968.17             0        39.93       2.514   \n3      1 2010-02-26    1409727.59             0        46.63       2.561   \n4      1 2010-03-05    1554806.68             0        46.50       2.625   \n\n          CPI  Unemployment  Weekly_Sales_t-1  Weekly_Sales_t-2  \\\n0  211.096358         8.106               NaN               NaN   \n1  211.242170         8.106        1643690.90               NaN   \n2  211.289143         8.106        1641957.44        1643690.90   \n3  211.319643         8.106        1611968.17        1641957.44   \n4  211.350143         8.106        1409727.59        1611968.17   \n\n   Weekly_Sales_t-3  Weekly_Sales_t-4  Weekly_Sales_t-5  Weekly_Sales_t-6  \\\n0               NaN               NaN               NaN               NaN   \n1               NaN               NaN               NaN               NaN   \n2               NaN               NaN               NaN               NaN   \n3        1643690.90               NaN               NaN               NaN   \n4        1641957.44         1643690.9               NaN               NaN   \n\n   Weekly_Sales_t-7  Weekly_Sales_t-8  Weekly_Sales_t+1  Weekly_Sales_t+2  \\\n0               NaN               NaN        1641957.44        1611968.17   \n1               NaN               NaN        1611968.17        1409727.59   \n2               NaN               NaN        1409727.59        1554806.68   \n3               NaN               NaN        1554806.68        1439541.59   \n4               NaN               NaN        1439541.59        1472515.79   \n\n   Weekly_Sales_t+3  \n0        1409727.59  \n1        1554806.68  \n2        1439541.59  \n3        1472515.79  \n4        1404429.92  ",
            "text/html": "<div>\n<style scoped>\n    .dataframe tbody tr th:only-of-type {\n        vertical-align: middle;\n    }\n\n    .dataframe tbody tr th {\n        vertical-align: top;\n    }\n\n    .dataframe thead th {\n        text-align: right;\n    }\n</style>\n<table border=\"1\" class=\"dataframe\">\n  <thead>\n    <tr style=\"text-align: right;\">\n      <th></th>\n      <th>Store</th>\n      <th>Date</th>\n      <th>Weekly_Sales</th>\n      <th>Holiday_Flag</th>\n      <th>Temperature</th>\n      <th>Fuel_Price</th>\n      <th>CPI</th>\n      <th>Unemployment</th>\n      <th>Weekly_Sales_t-1</th>\n      <th>Weekly_Sales_t-2</th>\n      <th>Weekly_Sales_t-3</th>\n      <th>Weekly_Sales_t-4</th>\n      <th>Weekly_Sales_t-5</th>\n      <th>Weekly_Sales_t-6</th>\n      <th>Weekly_Sales_t-7</th>\n      <th>Weekly_Sales_t-8</th>\n      <th>Weekly_Sales_t+1</th>\n      <th>Weekly_Sales_t+2</th>\n      <th>Weekly_Sales_t+3</th>\n    </tr>\n  </thead>\n  <tbody>\n    <tr>\n      <th>0</th>\n      <td>1</td>\n      <td>2010-02-05</td>\n      <td>1643690.90</td>\n      <td>0</td>\n      <td>42.31</td>\n      <td>2.572</td>\n      <td>211.096358</td>\n      <td>8.106</td>\n      <td>NaN</td>\n      <td>NaN</td>\n      <td>NaN</td>\n      <td>NaN</td>\n      <td>NaN</td>\n      <td>NaN</td>\n      <td>NaN</td>\n      <td>NaN</td>\n      <td>1641957.44</td>\n      <td>1611968.17</td>\n      <td>1409727.59</td>\n    </tr>\n    <tr>\n      <th>1</th>\n      <td>1</td>\n      <td>2010-02-12</td>\n      <td>1641957.44</td>\n      <td>1</td>\n      <td>38.51</td>\n      <td>2.548</td>\n      <td>211.242170</td>\n      <td>8.106</td>\n      <td>1643690.90</td>\n      <td>NaN</td>\n      <td>NaN</td>\n      <td>NaN</td>\n      <td>NaN</td>\n      <td>NaN</td>\n      <td>NaN</td>\n      <td>NaN</td>\n      <td>1611968.17</td>\n      <td>1409727.59</td>\n      <td>1554806.68</td>\n    </tr>\n    <tr>\n      <th>2</th>\n      <td>1</td>\n      <td>2010-02-19</td>\n      <td>1611968.17</td>\n      <td>0</td>\n      <td>39.93</td>\n      <td>2.514</td>\n      <td>211.289143</td>\n      <td>8.106</td>\n      <td>1641957.44</td>\n      <td>1643690.90</td>\n      <td>NaN</td>\n      <td>NaN</td>\n      <td>NaN</td>\n      <td>NaN</td>\n      <td>NaN</td>\n      <td>NaN</td>\n      <td>1409727.59</td>\n      <td>1554806.68</td>\n      <td>1439541.59</td>\n    </tr>\n    <tr>\n      <th>3</th>\n      <td>1</td>\n      <td>2010-02-26</td>\n      <td>1409727.59</td>\n      <td>0</td>\n      <td>46.63</td>\n      <td>2.561</td>\n      <td>211.319643</td>\n      <td>8.106</td>\n      <td>1611968.17</td>\n      <td>1641957.44</td>\n      <td>1643690.90</td>\n      <td>NaN</td>\n      <td>NaN</td>\n      <td>NaN</td>\n      <td>NaN</td>\n      <td>NaN</td>\n      <td>1554806.68</td>\n      <td>1439541.59</td>\n      <td>1472515.79</td>\n    </tr>\n    <tr>\n      <th>4</th>\n      <td>1</td>\n      <td>2010-03-05</td>\n      <td>1554806.68</td>\n      <td>0</td>\n      <td>46.50</td>\n      <td>2.625</td>\n      <td>211.350143</td>\n      <td>8.106</td>\n      <td>1409727.59</td>\n      <td>1611968.17</td>\n      <td>1641957.44</td>\n      <td>1643690.9</td>\n      <td>NaN</td>\n      <td>NaN</td>\n      <td>NaN</td>\n      <td>NaN</td>\n      <td>1439541.59</td>\n      <td>1472515.79</td>\n      <td>1404429.92</td>\n    </tr>\n  </tbody>\n</table>\n</div>"
          },
          "metadata": {}
        }
      ],
      "execution_count": 56,
      "metadata": {
        "jupyter": {
          "source_hidden": false,
          "outputs_hidden": false
        },
        "nteract": {
          "transient": {
            "deleting": false
          }
        },
        "gather": {
          "logged": 1690898713405
        }
      }
    },
    {
      "cell_type": "code",
      "source": [],
      "outputs": [],
      "execution_count": null,
      "metadata": {
        "jupyter": {
          "source_hidden": false,
          "outputs_hidden": false
        },
        "nteract": {
          "transient": {
            "deleting": false
          }
        }
      }
    }
  ],
  "metadata": {
    "kernelspec": {
      "name": "python38-azureml",
      "language": "python",
      "display_name": "Python 3.8 - AzureML"
    },
    "language_info": {
      "name": "python",
      "version": "3.8.5",
      "mimetype": "text/x-python",
      "codemirror_mode": {
        "name": "ipython",
        "version": 3
      },
      "pygments_lexer": "ipython3",
      "nbconvert_exporter": "python",
      "file_extension": ".py"
    },
    "microsoft": {
      "ms_spell_check": {
        "ms_spell_check_language": "en"
      },
      "host": {
        "AzureML": {
          "notebookHasBeenCompleted": true
        }
      }
    },
    "kernel_info": {
      "name": "python38-azureml"
    },
    "nteract": {
      "version": "nteract-front-end@1.0.0"
    }
  },
  "nbformat": 4,
  "nbformat_minor": 2
}