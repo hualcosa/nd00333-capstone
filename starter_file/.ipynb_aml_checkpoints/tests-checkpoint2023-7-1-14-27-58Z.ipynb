{
  "cells": [
    {
      "cell_type": "code",
      "source": [
        "from azureml.core import Workspace, Dataset, Datastore\n",
        "import pandas as pd\n",
        "import logging\n",
        "\n",
        "\n",
        "def get_data():\n",
        "    subscription_id = 'd2706c67-acfc-4bd3-9067-3ff6ac190bc9'\n",
        "    resource_group = 'capstone-project'\n",
        "    workspace_name = 'capstone-project'\n",
        "\n",
        "    workspace = Workspace(subscription_id, resource_group, workspace_name)\n",
        "\n",
        "    datastore = Datastore.get(workspace, \"workspaceworkingdirectory\")\n",
        "    dataset = Dataset.Tabular.from_delimited_files(path=(datastore, 'Users/hualcosa/nd00333-capstone/data/Walmart Data Analysis and Forcasting.csv'))\n",
        "    df = dataset.to_pandas_dataframe() \n",
        "    return df"
      ],
      "outputs": [],
      "execution_count": 59,
      "metadata": {
        "gather": {
          "logged": 1690898943154
        }
      }
    },
    {
      "cell_type": "code",
      "source": [
        "def process_data(df):\n",
        "    '''\n",
        "    This function formats the dataframe, adding past 8 weeks of sales as lagged features\n",
        "    and 4 weeks of future sales as the label column.\n",
        "\n",
        "    Return:\n",
        "    X. Training data with features + lagged sales\n",
        "    y. vector with the next 4 weeks of sales\n",
        "    '''\n",
        "    \n",
        "    df_with_windows = []\n",
        "    for store_num in df.Store.unique():\n",
        "        store_df = df[df.Store == store_num].copy()\n",
        "        # making lag features\n",
        "        for i in range(1, 9):\n",
        "            store_df[f'Weekly_Sales_t-{i}'] = store_df['Weekly_Sales'].shift(i)\n",
        "        # making future_time_steps\n",
        "        for i in range(1,4):\n",
        "            store_df[f'Weekly_Sales_t+{i}'] = store_df['Weekly_Sales'].shift(-i)\n",
        "\n",
        "        df_with_windows.append(store_df)\n",
        "\n",
        "    df_with_windows = pd.concat(df_with_windows).dropna()\n",
        "    # renaming first future value, to follow the same pattern as the other columns\n",
        "    df_with_windows.rename(columns={\"Weekly_Sales\":\"Weekly_Sales_t+0\"}, inplace=True)\n",
        "    df_with_windows = df_with_windows[['Store', 'Date', 'Holiday_Flag', 'Temperature',\n",
        "                                        'Fuel_Price', 'CPI', 'Unemployment', 'Weekly_Sales_t-1',\n",
        "                                        'Weekly_Sales_t-2', 'Weekly_Sales_t-3', 'Weekly_Sales_t-4',\n",
        "                                        'Weekly_Sales_t-5', 'Weekly_Sales_t-6', 'Weekly_Sales_t-7',\n",
        "                                        'Weekly_Sales_t-8', 'Weekly_Sales_t+0','Weekly_Sales_t+1', 'Weekly_Sales_t+2',\n",
        "                                        'Weekly_Sales_t+3']]\n",
        "\n",
        "    # future columns filter\n",
        "    ftr = df_with_windows.columns.str.match(r'.+t\\+\\d')\n",
        "    # making label vector\n",
        "    y = df_with_windows.loc[:, ftr].apply(lambda row: list(row), axis=1)\n",
        "    df_with_windows = df_with_windows.loc[:, ~ftr]\n",
        "    # making training data\n",
        "    X = df_with_windows.values\n",
        "\n",
        "    return X, y\n"
      ],
      "outputs": [],
      "execution_count": 63,
      "metadata": {
        "jupyter": {
          "source_hidden": false,
          "outputs_hidden": false
        },
        "nteract": {
          "transient": {
            "deleting": false
          }
        },
        "gather": {
          "logged": 1690899433333
        }
      }
    },
    {
      "cell_type": "code",
      "source": [
        "X"
      ],
      "outputs": [
        {
          "output_type": "execute_result",
          "execution_count": 66,
          "data": {
            "text/plain": "      Store       Date  Holiday_Flag  Temperature  Fuel_Price         CPI  \\\n8         1 2010-04-02             0        62.27       2.719  210.820450   \n9         1 2010-04-09             0        65.86       2.770  210.622857   \n10        1 2010-04-16             0        66.32       2.808  210.488700   \n11        1 2010-04-23             0        64.84       2.795  210.439123   \n12        1 2010-04-30             0        67.41       2.780  210.389546   \n...     ...        ...           ...          ...         ...         ...   \n6427     45 2012-09-07             1        75.70       3.911  191.577676   \n6428     45 2012-09-14             0        67.87       3.948  191.699850   \n6429     45 2012-09-21             0        65.32       4.038  191.856704   \n6430     45 2012-09-28             0        64.88       3.997  192.013558   \n6431     45 2012-10-05             0        64.89       3.985  192.170412   \n\n      Unemployment  Weekly_Sales_t-1  Weekly_Sales_t-2  Weekly_Sales_t-3  \\\n8            7.808        1404429.92        1472515.79        1439541.59   \n9            7.808        1594968.28        1404429.92        1472515.79   \n10           7.808        1545418.53        1594968.28        1404429.92   \n11           7.808        1466058.28        1545418.53        1594968.28   \n12           7.808        1391256.12        1466058.28        1545418.53   \n...            ...               ...               ...               ...   \n6427         8.684         734297.87         718232.26         722496.93   \n6428         8.684         766512.66         734297.87         718232.26   \n6429         8.684         702238.27         766512.66         734297.87   \n6430         8.684         723086.20         702238.27         766512.66   \n6431         8.667         713173.95         723086.20         702238.27   \n\n      Weekly_Sales_t-4  Weekly_Sales_t-5  Weekly_Sales_t-6  Weekly_Sales_t-7  \\\n8           1554806.68        1409727.59        1611968.17        1641957.44   \n9           1439541.59        1554806.68        1409727.59        1611968.17   \n10          1472515.79        1439541.59        1554806.68        1409727.59   \n11          1404429.92        1472515.79        1439541.59        1554806.68   \n12          1594968.28        1404429.92        1472515.79        1439541.59   \n...                ...               ...               ...               ...   \n6427         733037.32         725729.51         711671.58         737613.65   \n6428         722496.93         733037.32         725729.51         711671.58   \n6429         718232.26         722496.93         733037.32         725729.51   \n6430         734297.87         718232.26         722496.93         733037.32   \n6431         766512.66         734297.87         718232.26         722496.93   \n\n      Weekly_Sales_t-8  \n8           1643690.90  \n9           1641957.44  \n10          1611968.17  \n11          1409727.59  \n12          1554806.68  \n...                ...  \n6427         749817.08  \n6428         737613.65  \n6429         711671.58  \n6430         725729.51  \n6431         733037.32  \n\n[5940 rows x 15 columns]",
            "text/html": "<div>\n<style scoped>\n    .dataframe tbody tr th:only-of-type {\n        vertical-align: middle;\n    }\n\n    .dataframe tbody tr th {\n        vertical-align: top;\n    }\n\n    .dataframe thead th {\n        text-align: right;\n    }\n</style>\n<table border=\"1\" class=\"dataframe\">\n  <thead>\n    <tr style=\"text-align: right;\">\n      <th></th>\n      <th>Store</th>\n      <th>Date</th>\n      <th>Holiday_Flag</th>\n      <th>Temperature</th>\n      <th>Fuel_Price</th>\n      <th>CPI</th>\n      <th>Unemployment</th>\n      <th>Weekly_Sales_t-1</th>\n      <th>Weekly_Sales_t-2</th>\n      <th>Weekly_Sales_t-3</th>\n      <th>Weekly_Sales_t-4</th>\n      <th>Weekly_Sales_t-5</th>\n      <th>Weekly_Sales_t-6</th>\n      <th>Weekly_Sales_t-7</th>\n      <th>Weekly_Sales_t-8</th>\n    </tr>\n  </thead>\n  <tbody>\n    <tr>\n      <th>8</th>\n      <td>1</td>\n      <td>2010-04-02</td>\n      <td>0</td>\n      <td>62.27</td>\n      <td>2.719</td>\n      <td>210.820450</td>\n      <td>7.808</td>\n      <td>1404429.92</td>\n      <td>1472515.79</td>\n      <td>1439541.59</td>\n      <td>1554806.68</td>\n      <td>1409727.59</td>\n      <td>1611968.17</td>\n      <td>1641957.44</td>\n      <td>1643690.90</td>\n    </tr>\n    <tr>\n      <th>9</th>\n      <td>1</td>\n      <td>2010-04-09</td>\n      <td>0</td>\n      <td>65.86</td>\n      <td>2.770</td>\n      <td>210.622857</td>\n      <td>7.808</td>\n      <td>1594968.28</td>\n      <td>1404429.92</td>\n      <td>1472515.79</td>\n      <td>1439541.59</td>\n      <td>1554806.68</td>\n      <td>1409727.59</td>\n      <td>1611968.17</td>\n      <td>1641957.44</td>\n    </tr>\n    <tr>\n      <th>10</th>\n      <td>1</td>\n      <td>2010-04-16</td>\n      <td>0</td>\n      <td>66.32</td>\n      <td>2.808</td>\n      <td>210.488700</td>\n      <td>7.808</td>\n      <td>1545418.53</td>\n      <td>1594968.28</td>\n      <td>1404429.92</td>\n      <td>1472515.79</td>\n      <td>1439541.59</td>\n      <td>1554806.68</td>\n      <td>1409727.59</td>\n      <td>1611968.17</td>\n    </tr>\n    <tr>\n      <th>11</th>\n      <td>1</td>\n      <td>2010-04-23</td>\n      <td>0</td>\n      <td>64.84</td>\n      <td>2.795</td>\n      <td>210.439123</td>\n      <td>7.808</td>\n      <td>1466058.28</td>\n      <td>1545418.53</td>\n      <td>1594968.28</td>\n      <td>1404429.92</td>\n      <td>1472515.79</td>\n      <td>1439541.59</td>\n      <td>1554806.68</td>\n      <td>1409727.59</td>\n    </tr>\n    <tr>\n      <th>12</th>\n      <td>1</td>\n      <td>2010-04-30</td>\n      <td>0</td>\n      <td>67.41</td>\n      <td>2.780</td>\n      <td>210.389546</td>\n      <td>7.808</td>\n      <td>1391256.12</td>\n      <td>1466058.28</td>\n      <td>1545418.53</td>\n      <td>1594968.28</td>\n      <td>1404429.92</td>\n      <td>1472515.79</td>\n      <td>1439541.59</td>\n      <td>1554806.68</td>\n    </tr>\n    <tr>\n      <th>...</th>\n      <td>...</td>\n      <td>...</td>\n      <td>...</td>\n      <td>...</td>\n      <td>...</td>\n      <td>...</td>\n      <td>...</td>\n      <td>...</td>\n      <td>...</td>\n      <td>...</td>\n      <td>...</td>\n      <td>...</td>\n      <td>...</td>\n      <td>...</td>\n      <td>...</td>\n    </tr>\n    <tr>\n      <th>6427</th>\n      <td>45</td>\n      <td>2012-09-07</td>\n      <td>1</td>\n      <td>75.70</td>\n      <td>3.911</td>\n      <td>191.577676</td>\n      <td>8.684</td>\n      <td>734297.87</td>\n      <td>718232.26</td>\n      <td>722496.93</td>\n      <td>733037.32</td>\n      <td>725729.51</td>\n      <td>711671.58</td>\n      <td>737613.65</td>\n      <td>749817.08</td>\n    </tr>\n    <tr>\n      <th>6428</th>\n      <td>45</td>\n      <td>2012-09-14</td>\n      <td>0</td>\n      <td>67.87</td>\n      <td>3.948</td>\n      <td>191.699850</td>\n      <td>8.684</td>\n      <td>766512.66</td>\n      <td>734297.87</td>\n      <td>718232.26</td>\n      <td>722496.93</td>\n      <td>733037.32</td>\n      <td>725729.51</td>\n      <td>711671.58</td>\n      <td>737613.65</td>\n    </tr>\n    <tr>\n      <th>6429</th>\n      <td>45</td>\n      <td>2012-09-21</td>\n      <td>0</td>\n      <td>65.32</td>\n      <td>4.038</td>\n      <td>191.856704</td>\n      <td>8.684</td>\n      <td>702238.27</td>\n      <td>766512.66</td>\n      <td>734297.87</td>\n      <td>718232.26</td>\n      <td>722496.93</td>\n      <td>733037.32</td>\n      <td>725729.51</td>\n      <td>711671.58</td>\n    </tr>\n    <tr>\n      <th>6430</th>\n      <td>45</td>\n      <td>2012-09-28</td>\n      <td>0</td>\n      <td>64.88</td>\n      <td>3.997</td>\n      <td>192.013558</td>\n      <td>8.684</td>\n      <td>723086.20</td>\n      <td>702238.27</td>\n      <td>766512.66</td>\n      <td>734297.87</td>\n      <td>718232.26</td>\n      <td>722496.93</td>\n      <td>733037.32</td>\n      <td>725729.51</td>\n    </tr>\n    <tr>\n      <th>6431</th>\n      <td>45</td>\n      <td>2012-10-05</td>\n      <td>0</td>\n      <td>64.89</td>\n      <td>3.985</td>\n      <td>192.170412</td>\n      <td>8.667</td>\n      <td>713173.95</td>\n      <td>723086.20</td>\n      <td>702238.27</td>\n      <td>766512.66</td>\n      <td>734297.87</td>\n      <td>718232.26</td>\n      <td>722496.93</td>\n      <td>733037.32</td>\n    </tr>\n  </tbody>\n</table>\n<p>5940 rows × 15 columns</p>\n</div>"
          },
          "metadata": {}
        }
      ],
      "execution_count": 66,
      "metadata": {
        "jupyter": {
          "source_hidden": false,
          "outputs_hidden": false
        },
        "nteract": {
          "transient": {
            "deleting": false
          }
        },
        "gather": {
          "logged": 1690900054749
        }
      }
    },
    {
      "cell_type": "code",
      "source": [
        "y"
      ],
      "outputs": [
        {
          "output_type": "execute_result",
          "execution_count": 50,
          "data": {
            "text/plain": "8       [1594968.28, 1545418.53, 1466058.28, 1391256.12]\n9       [1545418.53, 1466058.28, 1391256.12, 1425100.71]\n10      [1466058.28, 1391256.12, 1425100.71, 1603955.12]\n11       [1391256.12, 1425100.71, 1603955.12, 1494251.5]\n12       [1425100.71, 1603955.12, 1494251.5, 1399662.07]\n                              ...                       \n6427         [766512.66, 702238.27, 723086.2, 713173.95]\n6428         [702238.27, 723086.2, 713173.95, 733455.07]\n6429         [723086.2, 713173.95, 733455.07, 734464.36]\n6430        [713173.95, 733455.07, 734464.36, 718125.53]\n6431        [733455.07, 734464.36, 718125.53, 760281.43]\nLength: 5940, dtype: object"
          },
          "metadata": {}
        }
      ],
      "execution_count": 50,
      "metadata": {
        "jupyter": {
          "source_hidden": false,
          "outputs_hidden": false
        },
        "nteract": {
          "transient": {
            "deleting": false
          }
        },
        "gather": {
          "logged": 1690898371820
        }
      }
    },
    {
      "cell_type": "code",
      "source": [
        "def main():\n",
        "    logging.basicConfig(\n",
        "        level=logging.INFO,\n",
        "        format=\"%(name)s - %(asctime)s - %(levelname)s - %(message)s\",\n",
        "        datefmt=\"%d-%b-%y %H:%M:%S\",\n",
        "    )\n",
        "\n",
        "    logging.info('Getting data...')\n",
        "    df = get_data()\n",
        "    logging.info('formatting data...')\n",
        "    X, y = process_data(df)\n",
        "    print(f\"X shape: {X.shape}\")\n",
        "    print(f\"y shape: {y.shape}\")\n",
        "    # logging.info('training model...')"
      ],
      "outputs": [],
      "execution_count": 64,
      "metadata": {
        "jupyter": {
          "source_hidden": false,
          "outputs_hidden": false
        },
        "nteract": {
          "transient": {
            "deleting": false
          }
        },
        "gather": {
          "logged": 1690899557066
        }
      }
    },
    {
      "cell_type": "code",
      "source": [
        "if __name__ == '__main__':\n",
        "    main()"
      ],
      "outputs": [
        {
          "output_type": "stream",
          "name": "stdout",
          "text": "X shape: (5940, 15)\ny shape: (5940,)\n"
        }
      ],
      "execution_count": 65,
      "metadata": {
        "jupyter": {
          "source_hidden": false,
          "outputs_hidden": false
        },
        "nteract": {
          "transient": {
            "deleting": false
          }
        },
        "gather": {
          "logged": 1690899562446
        }
      }
    },
    {
      "cell_type": "code",
      "source": [
        "main()"
      ],
      "outputs": [],
      "execution_count": 58,
      "metadata": {
        "jupyter": {
          "source_hidden": false,
          "outputs_hidden": false
        },
        "nteract": {
          "transient": {
            "deleting": false
          }
        },
        "gather": {
          "logged": 1690898746060
        }
      }
    },
    {
      "cell_type": "code",
      "source": [
        "# Tr"
      ],
      "outputs": [],
      "execution_count": null,
      "metadata": {
        "jupyter": {
          "source_hidden": false,
          "outputs_hidden": false
        },
        "nteract": {
          "transient": {
            "deleting": false
          }
        }
      }
    }
  ],
  "metadata": {
    "kernelspec": {
      "name": "python38-azureml",
      "language": "python",
      "display_name": "Python 3.8 - AzureML"
    },
    "language_info": {
      "name": "python",
      "version": "3.8.5",
      "mimetype": "text/x-python",
      "codemirror_mode": {
        "name": "ipython",
        "version": 3
      },
      "pygments_lexer": "ipython3",
      "nbconvert_exporter": "python",
      "file_extension": ".py"
    },
    "microsoft": {
      "ms_spell_check": {
        "ms_spell_check_language": "en"
      },
      "host": {
        "AzureML": {
          "notebookHasBeenCompleted": true
        }
      }
    },
    "kernel_info": {
      "name": "python38-azureml"
    },
    "nteract": {
      "version": "nteract-front-end@1.0.0"
    }
  },
  "nbformat": 4,
  "nbformat_minor": 2
}