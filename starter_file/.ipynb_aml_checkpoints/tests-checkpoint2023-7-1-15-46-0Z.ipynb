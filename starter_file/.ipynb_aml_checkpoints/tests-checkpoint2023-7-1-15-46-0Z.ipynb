{
  "cells": [
    {
      "cell_type": "code",
      "source": [
        "from azureml.core import Workspace, Dataset, Datastore\n",
        "import pandas as pd\n",
        "import numpy as np\n",
        "import logging\n",
        "\n",
        "\n",
        "def get_data():\n",
        "    subscription_id = 'd2706c67-acfc-4bd3-9067-3ff6ac190bc9'\n",
        "    resource_group = 'capstone-project'\n",
        "    workspace_name = 'capstone-project'\n",
        "\n",
        "    workspace = Workspace(subscription_id, resource_group, workspace_name)\n",
        "\n",
        "    datastore = Datastore.get(workspace, \"workspaceworkingdirectory\")\n",
        "    dataset = Dataset.Tabular.from_delimited_files(path=(datastore, 'Users/hualcosa/nd00333-capstone/data/Walmart Data Analysis and Forcasting.csv'))\n",
        "    df = dataset.to_pandas_dataframe() \n",
        "    return df"
      ],
      "outputs": [],
      "execution_count": 59,
      "metadata": {
        "gather": {
          "logged": 1690898943154
        }
      }
    },
    {
      "cell_type": "code",
      "source": [
        "def process_data(df):\n",
        "    '''\n",
        "    This function formats the dataframe, adding past 8 weeks of sales as lagged features\n",
        "    and 4 weeks of future sales as the label column.\n",
        "\n",
        "    Return:\n",
        "    X. Training data with features + lagged sales\n",
        "    y. vector with the next 4 weeks of sales\n",
        "    '''\n",
        "    \n",
        "    df_with_windows = []\n",
        "    for store_num in df.Store.unique():\n",
        "        store_df = df[df.Store == store_num].copy()\n",
        "        # making lag features\n",
        "        for i in range(1, 9):\n",
        "            store_df[f'Weekly_Sales_t-{i}'] = store_df['Weekly_Sales'].shift(i)\n",
        "        # making future_time_steps\n",
        "        for i in range(1,4):\n",
        "            store_df[f'Weekly_Sales_t+{i}'] = store_df['Weekly_Sales'].shift(-i)\n",
        "\n",
        "        df_with_windows.append(store_df)\n",
        "\n",
        "    df_with_windows = pd.concat(df_with_windows).dropna()\n",
        "    # renaming first future value, to follow the same pattern as the other columns\n",
        "    df_with_windows.rename(columns={\"Weekly_Sales\":\"Weekly_Sales_t+0\"}, inplace=True)\n",
        "    df_with_windows = df_with_windows[['Store', 'Date', 'Holiday_Flag', 'Temperature',\n",
        "                                        'Fuel_Price', 'CPI', 'Unemployment', 'Weekly_Sales_t-1',\n",
        "                                        'Weekly_Sales_t-2', 'Weekly_Sales_t-3', 'Weekly_Sales_t-4',\n",
        "                                        'Weekly_Sales_t-5', 'Weekly_Sales_t-6', 'Weekly_Sales_t-7',\n",
        "                                        'Weekly_Sales_t-8', 'Weekly_Sales_t+0','Weekly_Sales_t+1', 'Weekly_Sales_t+2',\n",
        "                                        'Weekly_Sales_t+3']]\n",
        "\n",
        "    # separate by store, train_test_split, and then join data again\n",
        "    x_train, x_val, y_train, y_val = [], [], [], []\n",
        "\n",
        "    for store_num in df_with_windows.Store.unique():\n",
        "        store_df = df_with_windows[df_with_windows.Store == store_num].copy()\n",
        "        # future columns filter\n",
        "        ftr = store_df.columns.str.match(r'.+t\\+\\d')\n",
        "        # making label vector\n",
        "        y_store = store_df.loc[:, ftr].apply(lambda row: list(row), axis=1).tolist()\n",
        "        # convert list to numpy array format\n",
        "        y_store = np.array(y_store)\n",
        "        # making training data\n",
        "        X_store = store_df.drop(columns='Date').values\n",
        "        x_train_store, x_val_store, y_train_store, y_val_store = train_test_split(X_store, y_store, test_size=0.2, shuffle=False, random_state=96)\n",
        "        \n",
        "        # appending to final results\n",
        "        x_train.append(x_train_store)\n",
        "        x_val.append(x_val_store)\n",
        "        y_train.append(y_train_store)\n",
        "        y_val.append(y_val_store)\n",
        "\n",
        "    x_train = np.concatenate(x_train)\n",
        "    x_val = np.concatenate(x_val)\n",
        "    y_train = np.concatenate(y_train)\n",
        "    y_val = np.concatenate(y_val)\n",
        "\n",
        "    return x_train, x_val, y_train, y_val\n"
      ],
      "outputs": [],
      "execution_count": 115,
      "metadata": {
        "jupyter": {
          "source_hidden": false,
          "outputs_hidden": false
        },
        "nteract": {
          "transient": {
            "deleting": false
          }
        },
        "gather": {
          "logged": 1690904486219
        }
      }
    },
    {
      "cell_type": "code",
      "source": [
        "logging.info('Getting data...')\n",
        "df = get_data()\n",
        "logging.info('formatting data...')\n",
        "x_train, x_val, y_train, y_val = process_data(df)"
      ],
      "outputs": [],
      "execution_count": 116,
      "metadata": {
        "jupyter": {
          "source_hidden": false,
          "outputs_hidden": false
        },
        "nteract": {
          "transient": {
            "deleting": false
          }
        },
        "gather": {
          "logged": 1690904497031
        }
      }
    },
    {
      "cell_type": "code",
      "source": [
        "x_train.shape, x_val.shape, y_train.shape, y_val.shape"
      ],
      "outputs": [
        {
          "output_type": "execute_result",
          "execution_count": 117,
          "data": {
            "text/plain": "((4725, 18), (1215, 18), (4725, 4), (1215, 4))"
          },
          "metadata": {}
        }
      ],
      "execution_count": 117,
      "metadata": {
        "jupyter": {
          "source_hidden": false,
          "outputs_hidden": false
        },
        "nteract": {
          "transient": {
            "deleting": false
          }
        },
        "gather": {
          "logged": 1690904515131
        }
      }
    },
    {
      "cell_type": "code",
      "source": [
        "test = pd.DataFrame(x_train)\n",
        "test[]"
      ],
      "outputs": [
        {
          "output_type": "execute_result",
          "execution_count": 118,
          "data": {
            "text/plain": "    0    1      2      3           4      5           6           7   \\\n0  1.0  0.0  62.27  2.719  210.820450  7.808  1404429.92  1472515.79   \n1  1.0  0.0  65.86  2.770  210.622857  7.808  1594968.28  1404429.92   \n2  1.0  0.0  66.32  2.808  210.488700  7.808  1545418.53  1594968.28   \n3  1.0  0.0  64.84  2.795  210.439123  7.808  1466058.28  1545418.53   \n4  1.0  0.0  67.41  2.780  210.389546  7.808  1391256.12  1466058.28   \n\n           8           9           10          11          12          13  \\\n0  1439541.59  1554806.68  1409727.59  1611968.17  1641957.44  1643690.90   \n1  1472515.79  1439541.59  1554806.68  1409727.59  1611968.17  1641957.44   \n2  1404429.92  1472515.79  1439541.59  1554806.68  1409727.59  1611968.17   \n3  1594968.28  1404429.92  1472515.79  1439541.59  1554806.68  1409727.59   \n4  1545418.53  1594968.28  1404429.92  1472515.79  1439541.59  1554806.68   \n\n           14          15          16          17  \n0  1594968.28  1545418.53  1466058.28  1391256.12  \n1  1545418.53  1466058.28  1391256.12  1425100.71  \n2  1466058.28  1391256.12  1425100.71  1603955.12  \n3  1391256.12  1425100.71  1603955.12  1494251.50  \n4  1425100.71  1603955.12  1494251.50  1399662.07  ",
            "text/html": "<div>\n<style scoped>\n    .dataframe tbody tr th:only-of-type {\n        vertical-align: middle;\n    }\n\n    .dataframe tbody tr th {\n        vertical-align: top;\n    }\n\n    .dataframe thead th {\n        text-align: right;\n    }\n</style>\n<table border=\"1\" class=\"dataframe\">\n  <thead>\n    <tr style=\"text-align: right;\">\n      <th></th>\n      <th>0</th>\n      <th>1</th>\n      <th>2</th>\n      <th>3</th>\n      <th>4</th>\n      <th>5</th>\n      <th>6</th>\n      <th>7</th>\n      <th>8</th>\n      <th>9</th>\n      <th>10</th>\n      <th>11</th>\n      <th>12</th>\n      <th>13</th>\n      <th>14</th>\n      <th>15</th>\n      <th>16</th>\n      <th>17</th>\n    </tr>\n  </thead>\n  <tbody>\n    <tr>\n      <th>0</th>\n      <td>1.0</td>\n      <td>0.0</td>\n      <td>62.27</td>\n      <td>2.719</td>\n      <td>210.820450</td>\n      <td>7.808</td>\n      <td>1404429.92</td>\n      <td>1472515.79</td>\n      <td>1439541.59</td>\n      <td>1554806.68</td>\n      <td>1409727.59</td>\n      <td>1611968.17</td>\n      <td>1641957.44</td>\n      <td>1643690.90</td>\n      <td>1594968.28</td>\n      <td>1545418.53</td>\n      <td>1466058.28</td>\n      <td>1391256.12</td>\n    </tr>\n    <tr>\n      <th>1</th>\n      <td>1.0</td>\n      <td>0.0</td>\n      <td>65.86</td>\n      <td>2.770</td>\n      <td>210.622857</td>\n      <td>7.808</td>\n      <td>1594968.28</td>\n      <td>1404429.92</td>\n      <td>1472515.79</td>\n      <td>1439541.59</td>\n      <td>1554806.68</td>\n      <td>1409727.59</td>\n      <td>1611968.17</td>\n      <td>1641957.44</td>\n      <td>1545418.53</td>\n      <td>1466058.28</td>\n      <td>1391256.12</td>\n      <td>1425100.71</td>\n    </tr>\n    <tr>\n      <th>2</th>\n      <td>1.0</td>\n      <td>0.0</td>\n      <td>66.32</td>\n      <td>2.808</td>\n      <td>210.488700</td>\n      <td>7.808</td>\n      <td>1545418.53</td>\n      <td>1594968.28</td>\n      <td>1404429.92</td>\n      <td>1472515.79</td>\n      <td>1439541.59</td>\n      <td>1554806.68</td>\n      <td>1409727.59</td>\n      <td>1611968.17</td>\n      <td>1466058.28</td>\n      <td>1391256.12</td>\n      <td>1425100.71</td>\n      <td>1603955.12</td>\n    </tr>\n    <tr>\n      <th>3</th>\n      <td>1.0</td>\n      <td>0.0</td>\n      <td>64.84</td>\n      <td>2.795</td>\n      <td>210.439123</td>\n      <td>7.808</td>\n      <td>1466058.28</td>\n      <td>1545418.53</td>\n      <td>1594968.28</td>\n      <td>1404429.92</td>\n      <td>1472515.79</td>\n      <td>1439541.59</td>\n      <td>1554806.68</td>\n      <td>1409727.59</td>\n      <td>1391256.12</td>\n      <td>1425100.71</td>\n      <td>1603955.12</td>\n      <td>1494251.50</td>\n    </tr>\n    <tr>\n      <th>4</th>\n      <td>1.0</td>\n      <td>0.0</td>\n      <td>67.41</td>\n      <td>2.780</td>\n      <td>210.389546</td>\n      <td>7.808</td>\n      <td>1391256.12</td>\n      <td>1466058.28</td>\n      <td>1545418.53</td>\n      <td>1594968.28</td>\n      <td>1404429.92</td>\n      <td>1472515.79</td>\n      <td>1439541.59</td>\n      <td>1554806.68</td>\n      <td>1425100.71</td>\n      <td>1603955.12</td>\n      <td>1494251.50</td>\n      <td>1399662.07</td>\n    </tr>\n  </tbody>\n</table>\n</div>"
          },
          "metadata": {}
        }
      ],
      "execution_count": 118,
      "metadata": {
        "jupyter": {
          "source_hidden": false,
          "outputs_hidden": false
        },
        "nteract": {
          "transient": {
            "deleting": false
          }
        },
        "gather": {
          "logged": 1690904558252
        }
      }
    },
    {
      "cell_type": "code",
      "source": [
        "X[:, 0]"
      ],
      "outputs": [
        {
          "output_type": "execute_result",
          "execution_count": 109,
          "data": {
            "text/plain": "array([ 1.,  1.,  1., ..., 45., 45., 45.])"
          },
          "metadata": {}
        }
      ],
      "execution_count": 109,
      "metadata": {
        "jupyter": {
          "source_hidden": false,
          "outputs_hidden": false
        },
        "nteract": {
          "transient": {
            "deleting": false
          }
        },
        "gather": {
          "logged": 1690903318322
        }
      }
    },
    {
      "cell_type": "code",
      "source": [
        " from sklearn.model_selection import train_test_split\n",
        " x_train, x_test, y_train, y_test = train_test_split(X, y, test_size=0.2, stratify=X[:,0], random_state=96, shuffle=False)"
      ],
      "outputs": [
        {
          "output_type": "error",
          "ename": "ValueError",
          "evalue": "Stratified train/test split is not implemented for shuffle=False",
          "traceback": [
            "\u001b[0;31m---------------------------------------------------------------------------\u001b[0m",
            "\u001b[0;31mValueError\u001b[0m                                Traceback (most recent call last)",
            "Cell \u001b[0;32mIn[111], line 2\u001b[0m\n\u001b[1;32m      1\u001b[0m \u001b[38;5;28;01mfrom\u001b[39;00m \u001b[38;5;21;01msklearn\u001b[39;00m\u001b[38;5;21;01m.\u001b[39;00m\u001b[38;5;21;01mmodel_selection\u001b[39;00m \u001b[38;5;28;01mimport\u001b[39;00m train_test_split\n\u001b[0;32m----> 2\u001b[0m x_train, x_test, y_train, y_test \u001b[38;5;241m=\u001b[39m \u001b[43mtrain_test_split\u001b[49m\u001b[43m(\u001b[49m\u001b[43mX\u001b[49m\u001b[43m,\u001b[49m\u001b[43m \u001b[49m\u001b[43my\u001b[49m\u001b[43m,\u001b[49m\u001b[43m \u001b[49m\u001b[43mtest_size\u001b[49m\u001b[38;5;241;43m=\u001b[39;49m\u001b[38;5;241;43m0.2\u001b[39;49m\u001b[43m,\u001b[49m\u001b[43m \u001b[49m\u001b[43mstratify\u001b[49m\u001b[38;5;241;43m=\u001b[39;49m\u001b[43mX\u001b[49m\u001b[43m[\u001b[49m\u001b[43m:\u001b[49m\u001b[43m,\u001b[49m\u001b[38;5;241;43m0\u001b[39;49m\u001b[43m]\u001b[49m\u001b[43m,\u001b[49m\u001b[43m \u001b[49m\u001b[43mrandom_state\u001b[49m\u001b[38;5;241;43m=\u001b[39;49m\u001b[38;5;241;43m96\u001b[39;49m\u001b[43m,\u001b[49m\u001b[43m \u001b[49m\u001b[43mshuffle\u001b[49m\u001b[38;5;241;43m=\u001b[39;49m\u001b[38;5;28;43;01mFalse\u001b[39;49;00m\u001b[43m)\u001b[49m\n",
            "File \u001b[0;32m/anaconda/envs/azureml_py38/lib/python3.8/site-packages/sklearn/model_selection/_split.py:2126\u001b[0m, in \u001b[0;36mtrain_test_split\u001b[0;34m(*arrays, **options)\u001b[0m\n\u001b[1;32m   2124\u001b[0m \u001b[38;5;28;01mif\u001b[39;00m shuffle \u001b[38;5;129;01mis\u001b[39;00m \u001b[38;5;28;01mFalse\u001b[39;00m:\n\u001b[1;32m   2125\u001b[0m     \u001b[38;5;28;01mif\u001b[39;00m stratify \u001b[38;5;129;01mis\u001b[39;00m \u001b[38;5;129;01mnot\u001b[39;00m \u001b[38;5;28;01mNone\u001b[39;00m:\n\u001b[0;32m-> 2126\u001b[0m         \u001b[38;5;28;01mraise\u001b[39;00m \u001b[38;5;167;01mValueError\u001b[39;00m(\n\u001b[1;32m   2127\u001b[0m             \u001b[38;5;124m\"\u001b[39m\u001b[38;5;124mStratified train/test split is not implemented for \u001b[39m\u001b[38;5;124m\"\u001b[39m\n\u001b[1;32m   2128\u001b[0m             \u001b[38;5;124m\"\u001b[39m\u001b[38;5;124mshuffle=False\u001b[39m\u001b[38;5;124m\"\u001b[39m)\n\u001b[1;32m   2130\u001b[0m     train \u001b[38;5;241m=\u001b[39m np\u001b[38;5;241m.\u001b[39marange(n_train)\n\u001b[1;32m   2131\u001b[0m     test \u001b[38;5;241m=\u001b[39m np\u001b[38;5;241m.\u001b[39marange(n_train, n_train \u001b[38;5;241m+\u001b[39m n_test)\n",
            "\u001b[0;31mValueError\u001b[0m: Stratified train/test split is not implemented for shuffle=False"
          ]
        }
      ],
      "execution_count": 111,
      "metadata": {
        "jupyter": {
          "source_hidden": false,
          "outputs_hidden": false
        },
        "nteract": {
          "transient": {
            "deleting": false
          }
        },
        "gather": {
          "logged": 1690903361163
        }
      }
    },
    {
      "cell_type": "markdown",
      "source": [
        "# Training Xgboost regressor"
      ],
      "metadata": {
        "nteract": {
          "transient": {
            "deleting": false
          }
        }
      }
    },
    {
      "cell_type": "code",
      "source": [
        "import xgboost as xgb"
      ],
      "outputs": [],
      "execution_count": 67,
      "metadata": {
        "jupyter": {
          "source_hidden": false,
          "outputs_hidden": false
        },
        "nteract": {
          "transient": {
            "deleting": false
          }
        },
        "gather": {
          "logged": 1690900187707
        }
      }
    },
    {
      "cell_type": "code",
      "source": [
        "from xgboost import XGBRegressor\n",
        "from sklearn.multioutput import MultiOutputRegressor\n",
        "\n",
        "kwargs = {\n",
        "    'max_depth': 3,\n",
        "    'n_estimators': 100,\n",
        "    'lambda' : 1,\n",
        "    'subsample' : 1,\n",
        "    'colsample_bytree': 1\n",
        "}\n",
        "#Define the estimator\n",
        "estimator = xgb.XGBRegressor(\n",
        "    objective = 'reg:squarederror',\n",
        "    **kwargs\n",
        "    )\n",
        "\n",
        "# Define the model\n",
        "my_model = MultiOutputRegressor(estimator = estimator, n_jobs = -1).fit(X, y)"
      ],
      "outputs": [
        {
          "output_type": "error",
          "ename": "TypeError",
          "evalue": "fit() got an unexpected keyword argument 'max_depth'",
          "traceback": [
            "\u001b[0;31m---------------------------------------------------------------------------\u001b[0m",
            "\u001b[0;31mTypeError\u001b[0m                                 Traceback (most recent call last)",
            "Cell \u001b[0;32mIn[106], line 17\u001b[0m\n\u001b[1;32m     12\u001b[0m estimator \u001b[38;5;241m=\u001b[39m xgb\u001b[38;5;241m.\u001b[39mXGBRegressor(\n\u001b[1;32m     13\u001b[0m     objective \u001b[38;5;241m=\u001b[39m \u001b[38;5;124m'\u001b[39m\u001b[38;5;124mreg:squarederror\u001b[39m\u001b[38;5;124m'\u001b[39m\n\u001b[1;32m     14\u001b[0m     )\n\u001b[1;32m     16\u001b[0m \u001b[38;5;66;03m# Define the model\u001b[39;00m\n\u001b[0;32m---> 17\u001b[0m my_model \u001b[38;5;241m=\u001b[39m \u001b[43mMultiOutputRegressor\u001b[49m\u001b[43m(\u001b[49m\u001b[43mestimator\u001b[49m\u001b[43m \u001b[49m\u001b[38;5;241;43m=\u001b[39;49m\u001b[43m \u001b[49m\u001b[43mestimator\u001b[49m\u001b[43m,\u001b[49m\u001b[43m \u001b[49m\u001b[43mn_jobs\u001b[49m\u001b[43m \u001b[49m\u001b[38;5;241;43m=\u001b[39;49m\u001b[43m \u001b[49m\u001b[38;5;241;43m-\u001b[39;49m\u001b[38;5;241;43m1\u001b[39;49m\u001b[43m)\u001b[49m\u001b[38;5;241;43m.\u001b[39;49m\u001b[43mfit\u001b[49m\u001b[43m(\u001b[49m\u001b[43mX\u001b[49m\u001b[43m,\u001b[49m\u001b[43m \u001b[49m\u001b[43my\u001b[49m\u001b[43m,\u001b[49m\u001b[43m \u001b[49m\u001b[38;5;241;43m*\u001b[39;49m\u001b[38;5;241;43m*\u001b[39;49m\u001b[43mkwargs\u001b[49m\u001b[43m)\u001b[49m\n",
            "\u001b[0;31mTypeError\u001b[0m: fit() got an unexpected keyword argument 'max_depth'"
          ]
        }
      ],
      "execution_count": 106,
      "metadata": {
        "jupyter": {
          "source_hidden": false,
          "outputs_hidden": false
        },
        "nteract": {
          "transient": {
            "deleting": false
          }
        },
        "gather": {
          "logged": 1690902526225
        }
      }
    },
    {
      "cell_type": "code",
      "source": [
        "my_model.score(X, y)"
      ],
      "outputs": [
        {
          "output_type": "execute_result",
          "execution_count": 102,
          "data": {
            "text/plain": "0.9968594816576335"
          },
          "metadata": {}
        }
      ],
      "execution_count": 102,
      "metadata": {
        "jupyter": {
          "source_hidden": false,
          "outputs_hidden": false
        },
        "nteract": {
          "transient": {
            "deleting": false
          }
        },
        "gather": {
          "logged": 1690901685432
        }
      }
    },
    {
      "cell_type": "code",
      "source": [
        "xgb.__version__"
      ],
      "outputs": [
        {
          "output_type": "execute_result",
          "execution_count": 103,
          "data": {
            "text/plain": "'1.3.3'"
          },
          "metadata": {}
        }
      ],
      "execution_count": 103,
      "metadata": {
        "jupyter": {
          "source_hidden": false,
          "outputs_hidden": false
        },
        "nteract": {
          "transient": {
            "deleting": false
          }
        },
        "gather": {
          "logged": 1690901780751
        }
      }
    },
    {
      "cell_type": "code",
      "source": [],
      "outputs": [],
      "execution_count": null,
      "metadata": {
        "jupyter": {
          "source_hidden": false,
          "outputs_hidden": false
        },
        "nteract": {
          "transient": {
            "deleting": false
          }
        }
      }
    }
  ],
  "metadata": {
    "kernelspec": {
      "name": "python38-azureml",
      "language": "python",
      "display_name": "Python 3.8 - AzureML"
    },
    "language_info": {
      "name": "python",
      "version": "3.8.5",
      "mimetype": "text/x-python",
      "codemirror_mode": {
        "name": "ipython",
        "version": 3
      },
      "pygments_lexer": "ipython3",
      "nbconvert_exporter": "python",
      "file_extension": ".py"
    },
    "microsoft": {
      "ms_spell_check": {
        "ms_spell_check_language": "en"
      },
      "host": {
        "AzureML": {
          "notebookHasBeenCompleted": true
        }
      }
    },
    "kernel_info": {
      "name": "python38-azureml"
    },
    "nteract": {
      "version": "nteract-front-end@1.0.0"
    }
  },
  "nbformat": 4,
  "nbformat_minor": 2
}